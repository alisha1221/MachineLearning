{
 "cells": [
  {
   "cell_type": "markdown",
   "metadata": {},
   "source": [
    "# Project: Identify Customer Segments\n",
    "\n",
    "In this project, you will apply unsupervised learning techniques to identify segments of the population that form the core customer base for a mail-order sales company in Germany. These segments can then be used to direct marketing campaigns towards audiences that will have the highest expected rate of returns. The data that you will use has been provided by our partners at Bertelsmann Arvato Analytics, and represents a real-life data science task.\n",
    "\n",
    "This notebook will help you complete this task by providing a framework within which you will perform your analysis steps. In each step of the project, you will see some text describing the subtask that you will perform, followed by one or more code cells for you to complete your work. **Feel free to add additional code and markdown cells as you go along so that you can explore everything in precise chunks.** The code cells provided in the base template will outline only the major tasks, and will usually not be enough to cover all of the minor tasks that comprise it.\n",
    "\n",
    "It should be noted that while there will be precise guidelines on how you should handle certain tasks in the project, there will also be places where an exact specification is not provided. **There will be times in the project where you will need to make and justify your own decisions on how to treat the data.** These are places where there may not be only one way to handle the data. In real-life tasks, there may be many valid ways to approach an analysis task. One of the most important things you can do is clearly document your approach so that other scientists can understand the decisions you've made.\n",
    "\n",
    "At the end of most sections, there will be a Markdown cell labeled **Discussion**. In these cells, you will report your findings for the completed section, as well as document the decisions that you made in your approach to each subtask. **Your project will be evaluated not just on the code used to complete the tasks outlined, but also your communication about your observations and conclusions at each stage.**"
   ]
  },
  {
   "cell_type": "code",
   "execution_count": 1,
   "metadata": {},
   "outputs": [
    {
     "data": {
      "text/plain": [
       "'\\nImport note: The classroom currently uses sklearn version 0.19.\\nIf you need to use an imputer, it is available in sklearn.preprocessing.Imputer,\\ninstead of sklearn.impute as in newer versions of sklearn.\\n'"
      ]
     },
     "execution_count": 1,
     "metadata": {},
     "output_type": "execute_result"
    }
   ],
   "source": [
    "# import libraries here; add more as necessary\n",
    "import numpy as np\n",
    "import pandas as pd\n",
    "import matplotlib.pyplot as plt\n",
    "import seaborn as sns\n",
    "\n",
    "from sklearn.preprocessing import Imputer, StandardScaler\n",
    "from sklearn.decomposition import PCA\n",
    "from sklearn.cluster import KMeans\n",
    "\n",
    "# magic word for producing visualizations in notebook\n",
    "%matplotlib inline\n",
    "\n",
    "'''\n",
    "Import note: The classroom currently uses sklearn version 0.19.\n",
    "If you need to use an imputer, it is available in sklearn.preprocessing.Imputer,\n",
    "instead of sklearn.impute as in newer versions of sklearn.\n",
    "'''"
   ]
  },
  {
   "cell_type": "markdown",
   "metadata": {},
   "source": [
    "### Step 0: Load the Data\n",
    "\n",
    "There are four files associated with this project (not including this one):\n",
    "\n",
    "- `Udacity_AZDIAS_Subset.csv`: Demographics data for the general population of Germany; 891211 persons (rows) x 85 features (columns).\n",
    "- `Udacity_CUSTOMERS_Subset.csv`: Demographics data for customers of a mail-order company; 191652 persons (rows) x 85 features (columns).\n",
    "- `Data_Dictionary.md`: Detailed information file about the features in the provided datasets.\n",
    "- `AZDIAS_Feature_Summary.csv`: Summary of feature attributes for demographics data; 85 features (rows) x 4 columns\n",
    "\n",
    "Each row of the demographics files represents a single person, but also includes information outside of individuals, including information about their household, building, and neighborhood. You will use this information to cluster the general population into groups with similar demographic properties. Then, you will see how the people in the customers dataset fit into those created clusters. The hope here is that certain clusters are over-represented in the customers data, as compared to the general population; those over-represented clusters will be assumed to be part of the core userbase. This information can then be used for further applications, such as targeting for a marketing campaign.\n",
    "\n",
    "To start off with, load in the demographics data for the general population into a pandas DataFrame, and do the same for the feature attributes summary. Note for all of the `.csv` data files in this project: they're semicolon (`;`) delimited, so you'll need an additional argument in your [`read_csv()`](https://pandas.pydata.org/pandas-docs/stable/generated/pandas.read_csv.html) call to read in the data properly. Also, considering the size of the main dataset, it may take some time for it to load completely.\n",
    "\n",
    "Once the dataset is loaded, it's recommended that you take a little bit of time just browsing the general structure of the dataset and feature summary file. You'll be getting deep into the innards of the cleaning in the first major step of the project, so gaining some general familiarity can help you get your bearings."
   ]
  },
  {
   "cell_type": "code",
   "execution_count": 2,
   "metadata": {},
   "outputs": [],
   "source": [
    "# Load in the general demographics data.\n",
    "azdias = pd.read_csv('Udacity_AZDIAS_Subset.csv', delimiter=';')\n",
    "\n",
    "# Load in the feature summary file.\n",
    "feat_info = pd.read_csv('AZDIAS_Feature_Summary.csv', delimiter=';')"
   ]
  },
  {
   "cell_type": "code",
   "execution_count": 25,
   "metadata": {},
   "outputs": [
    {
     "name": "stdout",
     "output_type": "stream",
     "text": [
      "No. of rows     :  891221 \n",
      "No. of columns  :  85\n"
     ]
    }
   ],
   "source": [
    "# Check the structure of the data after it's loaded (e.g. print the number of\n",
    "# rows and columns, print the first few rows).\n",
    "\n",
    "print('No. of rows     : ', azdias.shape[0], \n",
    "      '\\nNo. of columns  : ', azdias.shape[1])"
   ]
  },
  {
   "cell_type": "code",
   "execution_count": 26,
   "metadata": {},
   "outputs": [
    {
     "name": "stdout",
     "output_type": "stream",
     "text": [
      "   AGER_TYP  ALTERSKATEGORIE_GROB  ANREDE_KZ  CJT_GESAMTTYP  \\\n",
      "0       NaN                   2.0          1            2.0   \n",
      "1       NaN                   1.0          2            5.0   \n",
      "2       NaN                   3.0          2            3.0   \n",
      "3       2.0                   4.0          2            2.0   \n",
      "4       NaN                   3.0          1            5.0   \n",
      "\n",
      "   FINANZ_MINIMALIST  FINANZ_SPARER  FINANZ_VORSORGER  FINANZ_ANLEGER  \\\n",
      "0                  3              4                 3               5   \n",
      "1                  1              5                 2               5   \n",
      "2                  1              4                 1               2   \n",
      "3                  4              2                 5               2   \n",
      "4                  4              3                 4               1   \n",
      "\n",
      "   FINANZ_UNAUFFAELLIGER  FINANZ_HAUSBAUER    ...     PLZ8_ANTG1  PLZ8_ANTG2  \\\n",
      "0                      5                 3    ...            NaN         NaN   \n",
      "1                      4                 5    ...            2.0         3.0   \n",
      "2                      3                 5    ...            3.0         3.0   \n",
      "3                      1                 2    ...            2.0         2.0   \n",
      "4                      3                 2    ...            2.0         4.0   \n",
      "\n",
      "   PLZ8_ANTG3  PLZ8_ANTG4  PLZ8_BAUMAX  PLZ8_HHZ  PLZ8_GBZ  ARBEIT  \\\n",
      "0         NaN         NaN          NaN       NaN       NaN     NaN   \n",
      "1         2.0         1.0          1.0       5.0       4.0     3.0   \n",
      "2         1.0         0.0          1.0       4.0       4.0     3.0   \n",
      "3         2.0         0.0          1.0       3.0       4.0     2.0   \n",
      "4         2.0         1.0          2.0       3.0       3.0     4.0   \n",
      "\n",
      "   ORTSGR_KLS9  RELAT_AB  \n",
      "0          NaN       NaN  \n",
      "1          5.0       4.0  \n",
      "2          5.0       2.0  \n",
      "3          3.0       3.0  \n",
      "4          6.0       5.0  \n",
      "\n",
      "[5 rows x 85 columns]\n"
     ]
    }
   ],
   "source": [
    "print(azdias.head(5))"
   ]
  },
  {
   "cell_type": "code",
   "execution_count": 27,
   "metadata": {},
   "outputs": [
    {
     "name": "stdout",
     "output_type": "stream",
     "text": [
      "            AGER_TYP  ALTERSKATEGORIE_GROB      ANREDE_KZ  CJT_GESAMTTYP  \\\n",
      "count  205378.000000         888340.000000  891221.000000  886367.000000   \n",
      "mean        1.743410              2.757217       1.522098       3.632838   \n",
      "std         0.674312              1.009951       0.499512       1.595021   \n",
      "min         1.000000              1.000000       1.000000       1.000000   \n",
      "25%         1.000000              2.000000       1.000000       2.000000   \n",
      "50%         2.000000              3.000000       2.000000       4.000000   \n",
      "75%         2.000000              4.000000       2.000000       5.000000   \n",
      "max         3.000000              4.000000       2.000000       6.000000   \n",
      "\n",
      "       FINANZ_MINIMALIST  FINANZ_SPARER  FINANZ_VORSORGER  FINANZ_ANLEGER  \\\n",
      "count      891221.000000  891221.000000     891221.000000   891221.000000   \n",
      "mean            3.074528       2.821039          3.401106        3.033328   \n",
      "std             1.321055       1.464749          1.322134        1.529603   \n",
      "min             1.000000       1.000000          1.000000        1.000000   \n",
      "25%             2.000000       1.000000          3.000000        2.000000   \n",
      "50%             3.000000       3.000000          3.000000        3.000000   \n",
      "75%             4.000000       4.000000          5.000000        5.000000   \n",
      "max             5.000000       5.000000          5.000000        5.000000   \n",
      "\n",
      "       FINANZ_UNAUFFAELLIGER  FINANZ_HAUSBAUER      ...           PLZ8_ANTG1  \\\n",
      "count          891221.000000     891221.000000      ...        774706.000000   \n",
      "mean                2.874167          3.075121      ...             2.253330   \n",
      "std                 1.486731          1.353248      ...             0.972008   \n",
      "min                 1.000000          1.000000      ...             0.000000   \n",
      "25%                 2.000000          2.000000      ...             1.000000   \n",
      "50%                 3.000000          3.000000      ...             2.000000   \n",
      "75%                 4.000000          4.000000      ...             3.000000   \n",
      "max                 5.000000          5.000000      ...             4.000000   \n",
      "\n",
      "          PLZ8_ANTG2     PLZ8_ANTG3     PLZ8_ANTG4    PLZ8_BAUMAX  \\\n",
      "count  774706.000000  774706.000000  774706.000000  774706.000000   \n",
      "mean        2.801858       1.595426       0.699166       1.943913   \n",
      "std         0.920309       0.986736       0.727137       1.459654   \n",
      "min         0.000000       0.000000       0.000000       1.000000   \n",
      "25%         2.000000       1.000000       0.000000       1.000000   \n",
      "50%         3.000000       2.000000       1.000000       1.000000   \n",
      "75%         3.000000       2.000000       1.000000       3.000000   \n",
      "max         4.000000       3.000000       2.000000       5.000000   \n",
      "\n",
      "            PLZ8_HHZ       PLZ8_GBZ         ARBEIT    ORTSGR_KLS9  \\\n",
      "count  774706.000000  774706.000000  793846.000000  793947.000000   \n",
      "mean        3.612821       3.381087       3.166686       5.293389   \n",
      "std         0.973967       1.111598       0.999072       2.303379   \n",
      "min         1.000000       1.000000       1.000000       1.000000   \n",
      "25%         3.000000       3.000000       3.000000       4.000000   \n",
      "50%         4.000000       3.000000       3.000000       5.000000   \n",
      "75%         4.000000       4.000000       4.000000       7.000000   \n",
      "max         5.000000       5.000000       5.000000       9.000000   \n",
      "\n",
      "            RELAT_AB  \n",
      "count  793846.000000  \n",
      "mean        3.071033  \n",
      "std         1.360532  \n",
      "min         1.000000  \n",
      "25%         2.000000  \n",
      "50%         3.000000  \n",
      "75%         4.000000  \n",
      "max         5.000000  \n",
      "\n",
      "[8 rows x 81 columns]\n"
     ]
    }
   ],
   "source": [
    "print(azdias.describe())"
   ]
  },
  {
   "cell_type": "code",
   "execution_count": 28,
   "metadata": {},
   "outputs": [
    {
     "name": "stdout",
     "output_type": "stream",
     "text": [
      "<class 'pandas.core.frame.DataFrame'>\n",
      "RangeIndex: 891221 entries, 0 to 891220\n",
      "Data columns (total 85 columns):\n",
      "AGER_TYP                 205378 non-null float64\n",
      "ALTERSKATEGORIE_GROB     888340 non-null float64\n",
      "ANREDE_KZ                891221 non-null int64\n",
      "CJT_GESAMTTYP            886367 non-null float64\n",
      "FINANZ_MINIMALIST        891221 non-null int64\n",
      "FINANZ_SPARER            891221 non-null int64\n",
      "FINANZ_VORSORGER         891221 non-null int64\n",
      "FINANZ_ANLEGER           891221 non-null int64\n",
      "FINANZ_UNAUFFAELLIGER    891221 non-null int64\n",
      "FINANZ_HAUSBAUER         891221 non-null int64\n",
      "FINANZTYP                891221 non-null int64\n",
      "GEBURTSJAHR              498903 non-null float64\n",
      "GFK_URLAUBERTYP          886367 non-null float64\n",
      "GREEN_AVANTGARDE         891221 non-null int64\n",
      "HEALTH_TYP               780025 non-null float64\n",
      "LP_LEBENSPHASE_FEIN      793589 non-null float64\n",
      "LP_LEBENSPHASE_GROB      796649 non-null float64\n",
      "LP_FAMILIE_FEIN          813429 non-null float64\n",
      "LP_FAMILIE_GROB          813429 non-null float64\n",
      "LP_STATUS_FEIN           886367 non-null float64\n",
      "LP_STATUS_GROB           886367 non-null float64\n",
      "NATIONALITAET_KZ         782906 non-null float64\n",
      "PRAEGENDE_JUGENDJAHRE    783057 non-null float64\n",
      "RETOURTYP_BK_S           886367 non-null float64\n",
      "SEMIO_SOZ                891221 non-null int64\n",
      "SEMIO_FAM                891221 non-null int64\n",
      "SEMIO_REL                891221 non-null int64\n",
      "SEMIO_MAT                891221 non-null int64\n",
      "SEMIO_VERT               891221 non-null int64\n",
      "SEMIO_LUST               891221 non-null int64\n",
      "SEMIO_ERL                891221 non-null int64\n",
      "SEMIO_KULT               891221 non-null int64\n",
      "SEMIO_RAT                891221 non-null int64\n",
      "SEMIO_KRIT               891221 non-null int64\n",
      "SEMIO_DOM                891221 non-null int64\n",
      "SEMIO_KAEM               891221 non-null int64\n",
      "SEMIO_PFLICHT            891221 non-null int64\n",
      "SEMIO_TRADV              891221 non-null int64\n",
      "SHOPPER_TYP              780025 non-null float64\n",
      "SOHO_KZ                  817722 non-null float64\n",
      "TITEL_KZ                 2160 non-null float64\n",
      "VERS_TYP                 780025 non-null float64\n",
      "ZABEOTYP                 891221 non-null int64\n",
      "ALTER_HH                 580954 non-null float64\n",
      "ANZ_PERSONEN             817722 non-null float64\n",
      "ANZ_TITEL                817722 non-null float64\n",
      "HH_EINKOMMEN_SCORE       872873 non-null float64\n",
      "KK_KUNDENTYP             306609 non-null float64\n",
      "W_KEIT_KIND_HH           743233 non-null float64\n",
      "WOHNDAUER_2008           817722 non-null float64\n",
      "ANZ_HAUSHALTE_AKTIV      791610 non-null float64\n",
      "ANZ_HH_TITEL             794213 non-null float64\n",
      "GEBAEUDETYP              798073 non-null float64\n",
      "KONSUMNAEHE              817252 non-null float64\n",
      "MIN_GEBAEUDEJAHR         798073 non-null float64\n",
      "OST_WEST_KZ              798073 non-null object\n",
      "WOHNLAGE                 798073 non-null float64\n",
      "CAMEO_DEUG_2015          791869 non-null object\n",
      "CAMEO_DEU_2015           791869 non-null object\n",
      "CAMEO_INTL_2015          791869 non-null object\n",
      "KBA05_ANTG1              757897 non-null float64\n",
      "KBA05_ANTG2              757897 non-null float64\n",
      "KBA05_ANTG3              757897 non-null float64\n",
      "KBA05_ANTG4              757897 non-null float64\n",
      "KBA05_BAUMAX             414697 non-null float64\n",
      "KBA05_GBZ                757897 non-null float64\n",
      "BALLRAUM                 797481 non-null float64\n",
      "EWDICHTE                 797481 non-null float64\n",
      "INNENSTADT               797481 non-null float64\n",
      "GEBAEUDETYP_RASTER       798066 non-null float64\n",
      "KKK                      733157 non-null float64\n",
      "MOBI_REGIO               757897 non-null float64\n",
      "ONLINE_AFFINITAET        886367 non-null float64\n",
      "REGIOTYP                 733157 non-null float64\n",
      "KBA13_ANZAHL_PKW         785421 non-null float64\n",
      "PLZ8_ANTG1               774706 non-null float64\n",
      "PLZ8_ANTG2               774706 non-null float64\n",
      "PLZ8_ANTG3               774706 non-null float64\n",
      "PLZ8_ANTG4               774706 non-null float64\n",
      "PLZ8_BAUMAX              774706 non-null float64\n",
      "PLZ8_HHZ                 774706 non-null float64\n",
      "PLZ8_GBZ                 774706 non-null float64\n",
      "ARBEIT                   793846 non-null float64\n",
      "ORTSGR_KLS9              793947 non-null float64\n",
      "RELAT_AB                 793846 non-null float64\n",
      "dtypes: float64(57), int64(24), object(4)\n",
      "memory usage: 578.0+ MB\n",
      "None\n"
     ]
    }
   ],
   "source": [
    "print(azdias.info())"
   ]
  },
  {
   "cell_type": "code",
   "execution_count": 29,
   "metadata": {},
   "outputs": [
    {
     "name": "stdout",
     "output_type": "stream",
     "text": [
      "\n",
      "Frequency of dtypes: \n",
      " float64    57\n",
      "int64      24\n",
      "object      4\n",
      "dtype: int64\n"
     ]
    }
   ],
   "source": [
    "print(\"\\nFrequency of dtypes: \\n\", azdias.dtypes.value_counts())"
   ]
  },
  {
   "cell_type": "code",
   "execution_count": 30,
   "metadata": {},
   "outputs": [
    {
     "name": "stdout",
     "output_type": "stream",
     "text": [
      "              attribute information_level         type missing_or_unknown\n",
      "0              AGER_TYP            person  categorical             [-1,0]\n",
      "1  ALTERSKATEGORIE_GROB            person      ordinal           [-1,0,9]\n",
      "2             ANREDE_KZ            person  categorical             [-1,0]\n",
      "3         CJT_GESAMTTYP            person  categorical                [0]\n",
      "4     FINANZ_MINIMALIST            person      ordinal               [-1]\n"
     ]
    }
   ],
   "source": [
    "print(feat_info.head())"
   ]
  },
  {
   "cell_type": "markdown",
   "metadata": {},
   "source": [
    "> **Tip**: Add additional cells to keep everything in reasonably-sized chunks! Keyboard shortcut `esc --> a` (press escape to enter command mode, then press the 'A' key) adds a new cell before the active cell, and `esc --> b` adds a new cell after the active cell. If you need to convert an active cell to a markdown cell, use `esc --> m` and to convert to a code cell, use `esc --> y`. \n",
    "\n",
    "## Step 1: Preprocessing\n",
    "\n",
    "### Step 1.1: Assess Missing Data\n",
    "\n",
    "The feature summary file contains a summary of properties for each demographics data column. You will use this file to help you make cleaning decisions during this stage of the project. First of all, you should assess the demographics data in terms of missing data. Pay attention to the following points as you perform your analysis, and take notes on what you observe. Make sure that you fill in the **Discussion** cell with your findings and decisions at the end of each step that has one!\n",
    "\n",
    "#### Step 1.1.1: Convert Missing Value Codes to NaNs\n",
    "The fourth column of the feature attributes summary (loaded in above as `feat_info`) documents the codes from the data dictionary that indicate missing or unknown data. While the file encodes this as a list (e.g. `[-1,0]`), this will get read in as a string object. You'll need to do a little bit of parsing to make use of it to identify and clean the data. Convert data that matches a 'missing' or 'unknown' value code into a numpy NaN value. You might want to see how much data takes on a 'missing' or 'unknown' code, and how much data is naturally missing, as a point of interest.\n",
    "\n",
    "**As one more reminder, you are encouraged to add additional cells to break up your analysis into manageable chunks.**"
   ]
  },
  {
   "cell_type": "code",
   "execution_count": 31,
   "metadata": {},
   "outputs": [
    {
     "name": "stdout",
     "output_type": "stream",
     "text": [
      "Total missing values originally:  8373929\n"
     ]
    }
   ],
   "source": [
    "# Identify missing or unknown data values and convert them to NaNs.\n",
    "missing_org = azdias.isnull().sum().sum()\n",
    "\n",
    "print('Total missing values originally: ', missing_org)\n"
   ]
  },
  {
   "cell_type": "code",
   "execution_count": 32,
   "metadata": {},
   "outputs": [
    {
     "data": {
      "text/plain": [
       "\"['-1', 'X']\""
      ]
     },
     "execution_count": 32,
     "metadata": {},
     "output_type": "execute_result"
    }
   ],
   "source": [
    "# Checking\n",
    "str(feat_info.iloc[57]['missing_or_unknown'].strip('[]').split(sep=','))"
   ]
  },
  {
   "cell_type": "code",
   "execution_count": 33,
   "metadata": {},
   "outputs": [
    {
     "name": "stdout",
     "output_type": "stream",
     "text": [
      "Index(['OST_WEST_KZ', 'CAMEO_DEUG_2015', 'CAMEO_DEU_2015', 'CAMEO_INTL_2015'], dtype='object')\n"
     ]
    }
   ],
   "source": [
    "print(azdias.columns[azdias.dtypes == \"object\"])"
   ]
  },
  {
   "cell_type": "code",
   "execution_count": 34,
   "metadata": {},
   "outputs": [
    {
     "name": "stdout",
     "output_type": "stream",
     "text": [
      "['[-1,0]' '[-1,0,9]' '[-1,0]' '[0]' '[-1]' '[-1]' '[-1]' '[-1]' '[-1]'\n",
      " '[-1]' '[-1]' '[0]' '[]' '[]' '[-1,0]' '[0]' '[0]' '[0]' '[0]' '[0]' '[0]'\n",
      " '[-1,0]' '[-1,0]' '[0]' '[-1,9]' '[-1,9]' '[-1,9]' '[-1,9]' '[-1,9]'\n",
      " '[-1,9]' '[-1,9]' '[-1,9]' '[-1,9]' '[-1,9]' '[-1,9]' '[-1,9]' '[-1,9]'\n",
      " '[-1,9]' '[-1]' '[-1]' '[-1,0]' '[-1]' '[-1,9]' '[0]' '[]' '[]' '[-1,0]'\n",
      " '[-1]' '[-1,0]' '[-1,0]' '[0]' '[]' '[-1,0]' '[]' '[0]' \"['-1']\" '[-1]'\n",
      " \"['-1', 'X']\" \"['XX']\" \"['-1', 'XX']\" '[-1]' '[-1]' '[-1]' '[-1]' '[-1,0]'\n",
      " '[-1,0]' '[-1]' '[-1]' '[-1]' '[]' '[-1,0]' '[]' '[]' '[-1,0]' '[]' '[-1]'\n",
      " '[-1]' '[-1]' '[-1]' '[-1,0]' '[-1]' '[-1]' '[-1,9]' '[-1,0]' '[-1,9]']\n"
     ]
    }
   ],
   "source": [
    "# if the dtype is object, include quotes for the missing values too inside the list\n",
    "miss_var0=[]\n",
    "for i in list(range(feat_info.shape[0])):\n",
    "    miss_var0.append(str(feat_info.iloc[i]['missing_or_unknown'].strip('[]').split(sep=',')))\n",
    "    \n",
    "miss_var = np.where(feat_info['attribute'].isin(azdias.columns[azdias.dtypes == \"object\"]),\n",
    "                    miss_var0, feat_info['missing_or_unknown'])\n",
    "\n",
    "print(miss_var)"
   ]
  },
  {
   "cell_type": "code",
   "execution_count": 35,
   "metadata": {},
   "outputs": [],
   "source": [
    "# replace unknown/missing values with nans\n",
    "for i in list(range(len(azdias.columns))):\n",
    "    if len((eval(miss_var[i]))) != 0:\n",
    "        azdias[azdias.columns[i]]=azdias[azdias.columns[i]].replace(eval(miss_var[i]), np.nan)"
   ]
  },
  {
   "cell_type": "code",
   "execution_count": 36,
   "metadata": {},
   "outputs": [
    {
     "name": "stdout",
     "output_type": "stream",
     "text": [
      "Total missing values after conversion:  8373929\n"
     ]
    }
   ],
   "source": [
    "# Count number of missing values\n",
    "missing_new = azdias.isnull().sum().sum()\n",
    "\n",
    "print('Total missing values after conversion: ', missing_new)"
   ]
  },
  {
   "cell_type": "markdown",
   "metadata": {},
   "source": [
    "#### Step 1.1.2: Assess Missing Data in Each Column\n",
    "\n",
    "How much missing data is present in each column? There are a few columns that are outliers in terms of the proportion of values that are missing. You will want to use matplotlib's [`hist()`](https://matplotlib.org/api/_as_gen/matplotlib.pyplot.hist.html) function to visualize the distribution of missing value counts to find these columns. Identify and document these columns. While some of these columns might have justifications for keeping or re-encoding the data, for this project you should just remove them from the dataframe. (Feel free to make remarks about these outlier columns in the discussion, however!)\n",
    "\n",
    "For the remaining features, are there any patterns in which columns have, or share, missing data?"
   ]
  },
  {
   "cell_type": "code",
   "execution_count": 37,
   "metadata": {},
   "outputs": [
    {
     "name": "stdout",
     "output_type": "stream",
     "text": [
      "Variables and missing counts:\n",
      "\n",
      "TITEL_KZ                 889061\n",
      "AGER_TYP                 685843\n",
      "KK_KUNDENTYP             584612\n",
      "KBA05_BAUMAX             476524\n",
      "GEBURTSJAHR              392318\n",
      "ALTER_HH                 310267\n",
      "REGIOTYP                 158064\n",
      "KKK                      158064\n",
      "W_KEIT_KIND_HH           147988\n",
      "KBA05_ANTG4              133324\n",
      "KBA05_GBZ                133324\n",
      "MOBI_REGIO               133324\n",
      "KBA05_ANTG1              133324\n",
      "KBA05_ANTG2              133324\n",
      "KBA05_ANTG3              133324\n",
      "PLZ8_GBZ                 116515\n",
      "PLZ8_HHZ                 116515\n",
      "PLZ8_BAUMAX              116515\n",
      "PLZ8_ANTG4               116515\n",
      "PLZ8_ANTG1               116515\n",
      "PLZ8_ANTG3               116515\n",
      "PLZ8_ANTG2               116515\n",
      "SHOPPER_TYP              111196\n",
      "VERS_TYP                 111196\n",
      "HEALTH_TYP               111196\n",
      "NATIONALITAET_KZ         108315\n",
      "PRAEGENDE_JUGENDJAHRE    108164\n",
      "KBA13_ANZAHL_PKW         105800\n",
      "ANZ_HAUSHALTE_AKTIV       99611\n",
      "CAMEO_INTL_2015           99352\n",
      "CAMEO_DEU_2015            99352\n",
      "CAMEO_DEUG_2015           99352\n",
      "LP_LEBENSPHASE_FEIN       97632\n",
      "RELAT_AB                  97375\n",
      "ARBEIT                    97375\n",
      "ORTSGR_KLS9               97274\n",
      "ANZ_HH_TITEL              97008\n",
      "LP_LEBENSPHASE_GROB       94572\n",
      "INNENSTADT                93740\n",
      "EWDICHTE                  93740\n",
      "dtype: int64\n"
     ]
    }
   ],
   "source": [
    "# Perform an assessment of how much missing data there is in each column of the\n",
    "# dataset.\n",
    "missing_counts = azdias.isnull().sum()\n",
    "missing_counts \n",
    "\n",
    "print(\"Variables and missing counts:\\n\")\n",
    "print(missing_counts.sort_values(ascending=False).head(40))"
   ]
  },
  {
   "cell_type": "code",
   "execution_count": 39,
   "metadata": {},
   "outputs": [
    {
     "name": "stdout",
     "output_type": "stream",
     "text": [
      "Variables and missing percent:\n",
      "\n",
      "TITEL_KZ                 99.757636\n",
      "AGER_TYP                 76.955435\n",
      "KK_KUNDENTYP             65.596749\n",
      "KBA05_BAUMAX             53.468668\n",
      "GEBURTSJAHR              44.020282\n",
      "ALTER_HH                 34.813699\n",
      "REGIOTYP                 17.735668\n",
      "KKK                      17.735668\n",
      "W_KEIT_KIND_HH           16.605084\n",
      "KBA05_ANTG4              14.959701\n",
      "KBA05_GBZ                14.959701\n",
      "MOBI_REGIO               14.959701\n",
      "KBA05_ANTG1              14.959701\n",
      "KBA05_ANTG2              14.959701\n",
      "KBA05_ANTG3              14.959701\n",
      "PLZ8_GBZ                 13.073637\n",
      "PLZ8_HHZ                 13.073637\n",
      "PLZ8_BAUMAX              13.073637\n",
      "PLZ8_ANTG4               13.073637\n",
      "PLZ8_ANTG1               13.073637\n",
      "PLZ8_ANTG3               13.073637\n",
      "PLZ8_ANTG2               13.073637\n",
      "SHOPPER_TYP              12.476816\n",
      "VERS_TYP                 12.476816\n",
      "HEALTH_TYP               12.476816\n",
      "NATIONALITAET_KZ         12.153551\n",
      "PRAEGENDE_JUGENDJAHRE    12.136608\n",
      "KBA13_ANZAHL_PKW         11.871354\n",
      "ANZ_HAUSHALTE_AKTIV      11.176913\n",
      "CAMEO_INTL_2015          11.147852\n",
      "                           ...    \n",
      "RETOURTYP_BK_S            0.544646\n",
      "ONLINE_AFFINITAET         0.544646\n",
      "LP_STATUS_FEIN            0.544646\n",
      "LP_STATUS_GROB            0.544646\n",
      "GFK_URLAUBERTYP           0.544646\n",
      "ALTERSKATEGORIE_GROB      0.323264\n",
      "FINANZTYP                 0.000000\n",
      "GREEN_AVANTGARDE          0.000000\n",
      "FINANZ_HAUSBAUER          0.000000\n",
      "FINANZ_UNAUFFAELLIGER     0.000000\n",
      "FINANZ_ANLEGER            0.000000\n",
      "FINANZ_SPARER             0.000000\n",
      "FINANZ_MINIMALIST         0.000000\n",
      "ANREDE_KZ                 0.000000\n",
      "FINANZ_VORSORGER          0.000000\n",
      "SEMIO_FAM                 0.000000\n",
      "SEMIO_SOZ                 0.000000\n",
      "SEMIO_REL                 0.000000\n",
      "SEMIO_MAT                 0.000000\n",
      "SEMIO_VERT                0.000000\n",
      "SEMIO_LUST                0.000000\n",
      "SEMIO_ERL                 0.000000\n",
      "SEMIO_KULT                0.000000\n",
      "SEMIO_RAT                 0.000000\n",
      "SEMIO_KRIT                0.000000\n",
      "SEMIO_DOM                 0.000000\n",
      "SEMIO_KAEM                0.000000\n",
      "SEMIO_PFLICHT             0.000000\n",
      "SEMIO_TRADV               0.000000\n",
      "ZABEOTYP                  0.000000\n",
      "Length: 85, dtype: float64\n"
     ]
    }
   ],
   "source": [
    "\n",
    "missing_percent = azdias.isnull().sum()/len(azdias)*100\n",
    "missing_percent\n",
    "\n",
    "print(\"Variables and missing percent:\\n\")\n",
    "print(missing_percent.sort_values(ascending=False))"
   ]
  },
  {
   "cell_type": "code",
   "execution_count": 40,
   "metadata": {},
   "outputs": [
    {
     "data": {
      "image/png": "[encoded data removed]",
      "text/plain": [
       "<matplotlib.figure.Figure at 0x7f4d35702a58>"
      ]
     },
     "metadata": {},
     "output_type": "display_data"
    }
   ],
   "source": [
    "# Investigate patterns in the amount of missing data in each column.\n",
    "plt.hist(missing_counts, bins=100)\n",
    "plt.xlabel('Missing value (counts)')\n",
    "plt.ylabel('Number of columns')\n",
    "plt.show()\n"
   ]
  },
  {
   "cell_type": "code",
   "execution_count": 41,
   "metadata": {},
   "outputs": [
    {
     "data": {
      "image/png": "[encoded data removed]",
      "text/plain": [
       "<matplotlib.figure.Figure at 0x7f4d34cecbe0>"
      ]
     },
     "metadata": {},
     "output_type": "display_data"
    }
   ],
   "source": [
    "plt.hist(missing_percent, bins=100)\n",
    "plt.xlabel('Missing value (%)')\n",
    "plt.ylabel('Number of columns')\n",
    "plt.show()"
   ]
  },
  {
   "cell_type": "code",
   "execution_count": 42,
   "metadata": {},
   "outputs": [
    {
     "name": "stdout",
     "output_type": "stream",
     "text": [
      "Drop columns:  ['AGER_TYP', 'GEBURTSJAHR', 'TITEL_KZ', 'ALTER_HH', 'KK_KUNDENTYP', 'KBA05_BAUMAX']\n",
      "No. of columns after dropping:  79\n"
     ]
    }
   ],
   "source": [
    "# Remove the outlier columns from the dataset. (You'll perform other data\n",
    "# engineering tasks such as re-encoding and imputation later.)\n",
    "\n",
    "missing_gt_20 = list(missing_percent[missing_percent>20].index)\n",
    "print('Drop columns: ', missing_gt_20)\n",
    "\n",
    "azdias = azdias.drop(missing_gt_20, axis=1)\n",
    "print('No. of columns after dropping: ', azdias.shape[1])"
   ]
  },
  {
   "cell_type": "markdown",
   "metadata": {},
   "source": [
    "#### Discussion 1.1.2: Assess Missing Data in Each Column\n",
    "\n",
    "The counts and percentages of missing data are given in the preceding cells. Some of the columns were related, due to which a missing value in one of them corresponds to missing values in the remaining columns. Examples of such columns are 'KBA05_xxx' variables like KBA05_ANTG1, KBA05_ANTG2, KBA05_ANTG3, KBA05_ANTG4, etc. and 'PLZ8_xxx' variables like PLZ8_ANTG1, PLZ8_ANTG2, PLZ8_ANTG3, PLZ8_ANTG4, PLZ8_HHZ, PLZ8_GBZ and PLZ8_BAUMAX. Most of the columns had less than 20% missing data, however there were 6 columns with at least 20% missing data which were AGER_TYP', 'GEBURTSJAHR', 'TITEL_KZ', 'ALTER_HH', 'KK_KUNDENTYP' and 'KBA05_BAUMAX'. These 6 columns were considered outlier columns and were removed."
   ]
  },
  {
   "cell_type": "markdown",
   "metadata": {},
   "source": [
    "#### Step 1.1.3: Assess Missing Data in Each Row\n",
    "\n",
    "Now, you'll perform a similar assessment for the rows of the dataset. How much data is missing in each row? As with the columns, you should see some groups of points that have a very different numbers of missing values. Divide the data into two subsets: one for data points that are above some threshold for missing values, and a second subset for points below that threshold.\n",
    "\n",
    "In order to know what to do with the outlier rows, we should see if the distribution of data values on columns that are not missing data (or are missing very little data) are similar or different between the two groups. Select at least five of these columns and compare the distribution of values.\n",
    "- You can use seaborn's [`countplot()`](https://seaborn.pydata.org/generated/seaborn.countplot.html) function to create a bar chart of code frequencies and matplotlib's [`subplot()`](https://matplotlib.org/api/_as_gen/matplotlib.pyplot.subplot.html) function to put bar charts for the two subplots side by side.\n",
    "- To reduce repeated code, you might want to write a function that can perform this comparison, taking as one of its arguments a column to be compared.\n",
    "\n",
    "Depending on what you observe in your comparison, this will have implications on how you approach your conclusions later in the analysis. If the distributions of non-missing features look similar between the data with many missing values and the data with few or no missing values, then we could argue that simply dropping those points from the analysis won't present a major issue. On the other hand, if the data with many missing values looks very different from the data with few or no missing values, then we should make a note on those data as special. We'll revisit these data later on. **Either way, you should continue your analysis for now using just the subset of the data with few or no missing values.**"
   ]
  },
  {
   "cell_type": "code",
   "execution_count": 43,
   "metadata": {},
   "outputs": [
    {
     "name": "stdout",
     "output_type": "stream",
     "text": [
      "Variables and missing counts:\n",
      "\n",
      "643174    49\n",
      "732775    49\n",
      "472919    48\n",
      "183108    47\n",
      "139316    47\n",
      "691141    47\n",
      "691142    47\n",
      "691171    47\n",
      "691183    47\n",
      "139332    47\n",
      "691197    47\n",
      "139323    47\n",
      "691212    47\n",
      "691122    47\n",
      "139267    47\n",
      "139255    47\n",
      "139250    47\n",
      "139248    47\n",
      "139245    47\n",
      "139243    47\n",
      "691317    47\n",
      "691129    47\n",
      "691118    47\n",
      "139236    47\n",
      "139478    47\n",
      "690871    47\n",
      "690876    47\n",
      "690878    47\n",
      "690887    47\n",
      "139521    47\n",
      "          ..\n",
      "540246     0\n",
      "540244     0\n",
      "540243     0\n",
      "540242     0\n",
      "540241     0\n",
      "540240     0\n",
      "540239     0\n",
      "540269     0\n",
      "540271     0\n",
      "540300     0\n",
      "540289     0\n",
      "540299     0\n",
      "540298     0\n",
      "540296     0\n",
      "540295     0\n",
      "540293     0\n",
      "540292     0\n",
      "540291     0\n",
      "540290     0\n",
      "540287     0\n",
      "540273     0\n",
      "540286     0\n",
      "540284     0\n",
      "540283     0\n",
      "540281     0\n",
      "540280     0\n",
      "540277     0\n",
      "540275     0\n",
      "540274     0\n",
      "445610     0\n",
      "Length: 891221, dtype: int64\n"
     ]
    }
   ],
   "source": [
    "# How much data is missing in each row of the dataset?\n",
    "missing_counts_rows = azdias.isnull().sum(axis=1)\n",
    "missing_counts_rows \n",
    "\n",
    "print(\"Variables and missing counts:\\n\")\n",
    "print(missing_counts_rows.sort_values(ascending=False))\n"
   ]
  },
  {
   "cell_type": "code",
   "execution_count": 44,
   "metadata": {},
   "outputs": [
    {
     "data": {
      "image/png": "[encoded data removed]",
      "text/plain": [
       "<matplotlib.figure.Figure at 0x7f4d3ec6b668>"
      ]
     },
     "metadata": {},
     "output_type": "display_data"
    }
   ],
   "source": [
    "plt.hist(missing_counts_rows, bins=100)\n",
    "plt.xlabel('No. of columns with missing values')\n",
    "plt.ylabel('No. of rows')\n",
    "plt.show()"
   ]
  },
  {
   "cell_type": "code",
   "execution_count": 45,
   "metadata": {},
   "outputs": [
    {
     "name": "stdout",
     "output_type": "stream",
     "text": [
      "(93795, 79)\n"
     ]
    }
   ],
   "source": [
    "# Write code to divide the data into two subsets based on the number of missing\n",
    "# values in each row.\n",
    "\n",
    "# using 20 as threshold\n",
    "azdias_gt20 = azdias.loc[missing_counts_rows[missing_counts_rows >20].index,]\n",
    "print(azdias_gt20.shape)\n"
   ]
  },
  {
   "cell_type": "code",
   "execution_count": 46,
   "metadata": {},
   "outputs": [
    {
     "name": "stdout",
     "output_type": "stream",
     "text": [
      "(797426, 79)\n"
     ]
    }
   ],
   "source": [
    "azdias_lte20 = azdias.loc[missing_counts_rows[missing_counts_rows <=20].index,]\n",
    "print(azdias_lte20.shape)"
   ]
  },
  {
   "cell_type": "code",
   "execution_count": 47,
   "metadata": {},
   "outputs": [
    {
     "name": "stdout",
     "output_type": "stream",
     "text": [
      "Index(['ALTERSKATEGORIE_GROB', 'ANREDE_KZ', 'CJT_GESAMTTYP',\n",
      "       'FINANZ_MINIMALIST', 'FINANZ_SPARER', 'FINANZ_VORSORGER',\n",
      "       'FINANZ_ANLEGER', 'FINANZ_UNAUFFAELLIGER', 'FINANZ_HAUSBAUER',\n",
      "       'FINANZTYP', 'GFK_URLAUBERTYP', 'GREEN_AVANTGARDE', 'HEALTH_TYP',\n",
      "       'LP_LEBENSPHASE_FEIN', 'LP_LEBENSPHASE_GROB', 'LP_FAMILIE_FEIN',\n",
      "       'LP_FAMILIE_GROB', 'LP_STATUS_FEIN', 'LP_STATUS_GROB',\n",
      "       'NATIONALITAET_KZ', 'PRAEGENDE_JUGENDJAHRE', 'RETOURTYP_BK_S',\n",
      "       'SEMIO_SOZ', 'SEMIO_FAM', 'SEMIO_REL', 'SEMIO_MAT', 'SEMIO_VERT',\n",
      "       'SEMIO_LUST', 'SEMIO_ERL', 'SEMIO_KULT', 'SEMIO_RAT', 'SEMIO_KRIT',\n",
      "       'SEMIO_DOM', 'SEMIO_KAEM', 'SEMIO_PFLICHT', 'SEMIO_TRADV',\n",
      "       'SHOPPER_TYP', 'SOHO_KZ', 'VERS_TYP', 'ZABEOTYP', 'ANZ_PERSONEN',\n",
      "       'ANZ_TITEL', 'HH_EINKOMMEN_SCORE', 'W_KEIT_KIND_HH', 'WOHNDAUER_2008',\n",
      "       'ANZ_HAUSHALTE_AKTIV', 'ANZ_HH_TITEL', 'GEBAEUDETYP', 'KONSUMNAEHE',\n",
      "       'MIN_GEBAEUDEJAHR', 'OST_WEST_KZ', 'WOHNLAGE', 'CAMEO_DEUG_2015',\n",
      "       'CAMEO_DEU_2015', 'CAMEO_INTL_2015', 'KBA05_ANTG1', 'KBA05_ANTG2',\n",
      "       'KBA05_ANTG3', 'KBA05_ANTG4', 'KBA05_GBZ', 'BALLRAUM', 'EWDICHTE',\n",
      "       'INNENSTADT', 'GEBAEUDETYP_RASTER', 'KKK', 'MOBI_REGIO',\n",
      "       'ONLINE_AFFINITAET', 'REGIOTYP', 'KBA13_ANZAHL_PKW', 'PLZ8_ANTG1',\n",
      "       'PLZ8_ANTG2', 'PLZ8_ANTG3', 'PLZ8_ANTG4', 'PLZ8_BAUMAX', 'PLZ8_HHZ',\n",
      "       'PLZ8_GBZ', 'ARBEIT', 'ORTSGR_KLS9', 'RELAT_AB'],\n",
      "      dtype='object')\n"
     ]
    }
   ],
   "source": [
    "print(azdias_gt20.columns)\n"
   ]
  },
  {
   "cell_type": "code",
   "execution_count": 48,
   "metadata": {},
   "outputs": [
    {
     "name": "stdout",
     "output_type": "stream",
     "text": [
      "ZABEOTYP         0.0\n",
      "SEMIO_TRADV      0.0\n",
      "SEMIO_PFLICHT    0.0\n",
      "SEMIO_KAEM       0.0\n",
      "SEMIO_DOM        0.0\n",
      "SEMIO_KRIT       0.0\n",
      "SEMIO_RAT        0.0\n",
      "SEMIO_KULT       0.0\n",
      "SEMIO_ERL        0.0\n",
      "SEMIO_LUST       0.0\n",
      "dtype: float64\n"
     ]
    }
   ],
   "source": [
    "few_miss_vals = azdias.isnull().sum()/len(azdias)*100\n",
    "\n",
    "print(missing_percent.sort_values(ascending=True).head(10))"
   ]
  },
  {
   "cell_type": "code",
   "execution_count": 49,
   "metadata": {},
   "outputs": [],
   "source": [
    "# Compare the distribution of values for at least five columns where there are\n",
    "# no or few missing values, between the two subsets.\n",
    "\n",
    "def plt_compare(varname):\n",
    "    plt.subplot(121).set_title('Less than or equal to \\n20 missing columns')\n",
    "    sns.countplot(x=varname, data=azdias_lte20)\n",
    "    plt.subplot(122).set_title('More than \\n20 missing columns')\n",
    "    sns.countplot(x=varname, data=azdias_gt20)\n",
    "    plt.tight_layout()\n",
    "    \n",
    "    "
   ]
  },
  {
   "cell_type": "code",
   "execution_count": 50,
   "metadata": {},
   "outputs": [
    {
     "data": {
      "image/png": "[encoded data removed]",
      "text/plain": [
       "<matplotlib.figure.Figure at 0x7f4d34caaef0>"
      ]
     },
     "metadata": {},
     "output_type": "display_data"
    }
   ],
   "source": [
    "plt_compare('ZABEOTYP')"
   ]
  },
  {
   "cell_type": "code",
   "execution_count": 51,
   "metadata": {},
   "outputs": [
    {
     "data": {
      "image/png": "[encoded data removed]",
      "text/plain": [
       "<matplotlib.figure.Figure at 0x7f4d35904898>"
      ]
     },
     "metadata": {},
     "output_type": "display_data"
    }
   ],
   "source": [
    "plt_compare('SEMIO_REL')"
   ]
  },
  {
   "cell_type": "code",
   "execution_count": 52,
   "metadata": {},
   "outputs": [
    {
     "data": {
      "image/png": "[encoded data removed]",
      "text/plain": [
       "<matplotlib.figure.Figure at 0x7f4d34bcd978>"
      ]
     },
     "metadata": {},
     "output_type": "display_data"
    }
   ],
   "source": [
    "plt_compare('SEMIO_MAT')"
   ]
  },
  {
   "cell_type": "code",
   "execution_count": 53,
   "metadata": {},
   "outputs": [
    {
     "data": {
      "image/png": "[encoded data removed]",
      "text/plain": [
       "<matplotlib.figure.Figure at 0x7f4d34d9abe0>"
      ]
     },
     "metadata": {},
     "output_type": "display_data"
    }
   ],
   "source": [
    "plt_compare('SEMIO_ERL')"
   ]
  },
  {
   "cell_type": "code",
   "execution_count": 54,
   "metadata": {},
   "outputs": [
    {
     "data": {
      "image/png": "[encoded data removed]",
      "text/plain": [
       "<matplotlib.figure.Figure at 0x7f4d3ebfee10>"
      ]
     },
     "metadata": {},
     "output_type": "display_data"
    }
   ],
   "source": [
    "plt_compare('SEMIO_DOM')"
   ]
  },
  {
   "cell_type": "markdown",
   "metadata": {},
   "source": [
    "#### Discussion 1.1.3: Assess Missing Data in Each Row\n",
    "\n",
    "The missing counts for rows are given in preceding cells. Most of the rows have at most 20 columns with missing data, thus I divided the data based on 'less than or equal to 20 missing columns' and 'more than 20 missing columns'. Based on the sample columns selected for plots, the distribution for these two datasets looked different. For the columns with more than 20 missing columns, they tended to belong to a single category. For now, I used the subset of data with few or no missing values."
   ]
  },
  {
   "cell_type": "markdown",
   "metadata": {},
   "source": [
    "### Step 1.2: Select and Re-Encode Features\n",
    "\n",
    "Checking for missing data isn't the only way in which you can prepare a dataset for analysis. Since the unsupervised learning techniques to be used will only work on data that is encoded numerically, you need to make a few encoding changes or additional assumptions to be able to make progress. In addition, while almost all of the values in the dataset are encoded using numbers, not all of them represent numeric values. Check the third column of the feature summary (`feat_info`) for a summary of types of measurement.\n",
    "- For numeric and interval data, these features can be kept without changes.\n",
    "- Most of the variables in the dataset are ordinal in nature. While ordinal values may technically be non-linear in spacing, make the simplifying assumption that the ordinal variables can be treated as being interval in nature (that is, kept without any changes).\n",
    "- Special handling may be necessary for the remaining two variable types: categorical, and 'mixed'.\n",
    "\n",
    "In the first two parts of this sub-step, you will perform an investigation of the categorical and mixed-type features and make a decision on each of them, whether you will keep, drop, or re-encode each. Then, in the last part, you will create a new data frame with only the selected and engineered columns.\n",
    "\n",
    "Data wrangling is often the trickiest part of the data analysis process, and there's a lot of it to be done here. But stick with it: once you're done with this step, you'll be ready to get to the machine learning parts of the project!"
   ]
  },
  {
   "cell_type": "code",
   "execution_count": 55,
   "metadata": {},
   "outputs": [
    {
     "name": "stdout",
     "output_type": "stream",
     "text": [
      "ordinal        49\n",
      "categorical    18\n",
      "mixed           6\n",
      "numeric         6\n",
      "Name: type, dtype: int64\n"
     ]
    }
   ],
   "source": [
    "# How many features are there of each data type?\n",
    "\n",
    "feat_info2 = feat_info[~feat_info['attribute'].isin(missing_gt_20)]\n",
    "\n",
    "print(feat_info2.type.value_counts())"
   ]
  },
  {
   "cell_type": "markdown",
   "metadata": {},
   "source": [
    "#### Step 1.2.1: Re-Encode Categorical Features\n",
    "\n",
    "For categorical data, you would ordinarily need to encode the levels as dummy variables. Depending on the number of categories, perform one of the following:\n",
    "- For binary (two-level) categoricals that take numeric values, you can keep them without needing to do anything.\n",
    "- There is one binary variable that takes on non-numeric values. For this one, you need to re-encode the values as numbers or create a dummy variable.\n",
    "- For multi-level categoricals (three or more values), you can choose to encode the values using multiple dummy variables (e.g. via [OneHotEncoder](http://scikit-learn.org/stable/modules/generated/sklearn.preprocessing.OneHotEncoder.html)), or (to keep things straightforward) just drop them from the analysis. As always, document your choices in the Discussion section."
   ]
  },
  {
   "cell_type": "code",
   "execution_count": 56,
   "metadata": {},
   "outputs": [
    {
     "data": {
      "text/html": [
       "<div>\n",
       "<style scoped>\n",
       "    .dataframe tbody tr th:only-of-type {\n",
       "        vertical-align: middle;\n",
       "    }\n",
       "\n",
       "    .dataframe tbody tr th {\n",
       "        vertical-align: top;\n",
       "    }\n",
       "\n",
       "    .dataframe thead th {\n",
       "        text-align: right;\n",
       "    }\n",
       "</style>\n",
       "<table border=\"1\" class=\"dataframe\">\n",
       "  <thead>\n",
       "    <tr style=\"text-align: right;\">\n",
       "      <th></th>\n",
       "      <th>attribute</th>\n",
       "      <th>information_level</th>\n",
       "      <th>type</th>\n",
       "      <th>missing_or_unknown</th>\n",
       "    </tr>\n",
       "  </thead>\n",
       "  <tbody>\n",
       "    <tr>\n",
       "      <th>2</th>\n",
       "      <td>ANREDE_KZ</td>\n",
       "      <td>person</td>\n",
       "      <td>categorical</td>\n",
       "      <td>[-1,0]</td>\n",
       "    </tr>\n",
       "    <tr>\n",
       "      <th>3</th>\n",
       "      <td>CJT_GESAMTTYP</td>\n",
       "      <td>person</td>\n",
       "      <td>categorical</td>\n",
       "      <td>[0]</td>\n",
       "    </tr>\n",
       "    <tr>\n",
       "      <th>10</th>\n",
       "      <td>FINANZTYP</td>\n",
       "      <td>person</td>\n",
       "      <td>categorical</td>\n",
       "      <td>[-1]</td>\n",
       "    </tr>\n",
       "    <tr>\n",
       "      <th>12</th>\n",
       "      <td>GFK_URLAUBERTYP</td>\n",
       "      <td>person</td>\n",
       "      <td>categorical</td>\n",
       "      <td>[]</td>\n",
       "    </tr>\n",
       "    <tr>\n",
       "      <th>13</th>\n",
       "      <td>GREEN_AVANTGARDE</td>\n",
       "      <td>person</td>\n",
       "      <td>categorical</td>\n",
       "      <td>[]</td>\n",
       "    </tr>\n",
       "    <tr>\n",
       "      <th>17</th>\n",
       "      <td>LP_FAMILIE_FEIN</td>\n",
       "      <td>person</td>\n",
       "      <td>categorical</td>\n",
       "      <td>[0]</td>\n",
       "    </tr>\n",
       "    <tr>\n",
       "      <th>18</th>\n",
       "      <td>LP_FAMILIE_GROB</td>\n",
       "      <td>person</td>\n",
       "      <td>categorical</td>\n",
       "      <td>[0]</td>\n",
       "    </tr>\n",
       "    <tr>\n",
       "      <th>19</th>\n",
       "      <td>LP_STATUS_FEIN</td>\n",
       "      <td>person</td>\n",
       "      <td>categorical</td>\n",
       "      <td>[0]</td>\n",
       "    </tr>\n",
       "    <tr>\n",
       "      <th>20</th>\n",
       "      <td>LP_STATUS_GROB</td>\n",
       "      <td>person</td>\n",
       "      <td>categorical</td>\n",
       "      <td>[0]</td>\n",
       "    </tr>\n",
       "    <tr>\n",
       "      <th>21</th>\n",
       "      <td>NATIONALITAET_KZ</td>\n",
       "      <td>person</td>\n",
       "      <td>categorical</td>\n",
       "      <td>[-1,0]</td>\n",
       "    </tr>\n",
       "    <tr>\n",
       "      <th>38</th>\n",
       "      <td>SHOPPER_TYP</td>\n",
       "      <td>person</td>\n",
       "      <td>categorical</td>\n",
       "      <td>[-1]</td>\n",
       "    </tr>\n",
       "    <tr>\n",
       "      <th>39</th>\n",
       "      <td>SOHO_KZ</td>\n",
       "      <td>person</td>\n",
       "      <td>categorical</td>\n",
       "      <td>[-1]</td>\n",
       "    </tr>\n",
       "    <tr>\n",
       "      <th>41</th>\n",
       "      <td>VERS_TYP</td>\n",
       "      <td>person</td>\n",
       "      <td>categorical</td>\n",
       "      <td>[-1]</td>\n",
       "    </tr>\n",
       "    <tr>\n",
       "      <th>42</th>\n",
       "      <td>ZABEOTYP</td>\n",
       "      <td>person</td>\n",
       "      <td>categorical</td>\n",
       "      <td>[-1,9]</td>\n",
       "    </tr>\n",
       "    <tr>\n",
       "      <th>52</th>\n",
       "      <td>GEBAEUDETYP</td>\n",
       "      <td>building</td>\n",
       "      <td>categorical</td>\n",
       "      <td>[-1,0]</td>\n",
       "    </tr>\n",
       "    <tr>\n",
       "      <th>55</th>\n",
       "      <td>OST_WEST_KZ</td>\n",
       "      <td>building</td>\n",
       "      <td>categorical</td>\n",
       "      <td>[-1]</td>\n",
       "    </tr>\n",
       "    <tr>\n",
       "      <th>57</th>\n",
       "      <td>CAMEO_DEUG_2015</td>\n",
       "      <td>microcell_rr4</td>\n",
       "      <td>categorical</td>\n",
       "      <td>[-1,X]</td>\n",
       "    </tr>\n",
       "    <tr>\n",
       "      <th>58</th>\n",
       "      <td>CAMEO_DEU_2015</td>\n",
       "      <td>microcell_rr4</td>\n",
       "      <td>categorical</td>\n",
       "      <td>[XX]</td>\n",
       "    </tr>\n",
       "  </tbody>\n",
       "</table>\n",
       "</div>"
      ],
      "text/plain": [
       "           attribute information_level         type missing_or_unknown\n",
       "2          ANREDE_KZ            person  categorical             [-1,0]\n",
       "3      CJT_GESAMTTYP            person  categorical                [0]\n",
       "10         FINANZTYP            person  categorical               [-1]\n",
       "12   GFK_URLAUBERTYP            person  categorical                 []\n",
       "13  GREEN_AVANTGARDE            person  categorical                 []\n",
       "17   LP_FAMILIE_FEIN            person  categorical                [0]\n",
       "18   LP_FAMILIE_GROB            person  categorical                [0]\n",
       "19    LP_STATUS_FEIN            person  categorical                [0]\n",
       "20    LP_STATUS_GROB            person  categorical                [0]\n",
       "21  NATIONALITAET_KZ            person  categorical             [-1,0]\n",
       "38       SHOPPER_TYP            person  categorical               [-1]\n",
       "39           SOHO_KZ            person  categorical               [-1]\n",
       "41          VERS_TYP            person  categorical               [-1]\n",
       "42          ZABEOTYP            person  categorical             [-1,9]\n",
       "52       GEBAEUDETYP          building  categorical             [-1,0]\n",
       "55       OST_WEST_KZ          building  categorical               [-1]\n",
       "57   CAMEO_DEUG_2015     microcell_rr4  categorical             [-1,X]\n",
       "58    CAMEO_DEU_2015     microcell_rr4  categorical               [XX]"
      ]
     },
     "execution_count": 56,
     "metadata": {},
     "output_type": "execute_result"
    }
   ],
   "source": [
    "# Assess categorical variables: which are binary, which are multi-level, and\n",
    "# which one needs to be re-encoded?\n",
    "feat_cat = feat_info2[feat_info2['type']=='categorical']\n",
    "feat_cat\n"
   ]
  },
  {
   "cell_type": "code",
   "execution_count": 57,
   "metadata": {},
   "outputs": [
    {
     "name": "stdout",
     "output_type": "stream",
     "text": [
      "Unique values for  ANREDE_KZ :\n",
      "[1 2]\n",
      "Total unique values:  2\n",
      "\n",
      "\n",
      "Unique values for  CJT_GESAMTTYP :\n",
      "[  1.   2.   3.   4.   5.   6.  nan]\n",
      "Total unique values:  6\n",
      "\n",
      "\n",
      "Unique values for  FINANZTYP :\n",
      "[1 2 3 4 5 6]\n",
      "Total unique values:  6\n",
      "\n",
      "\n",
      "Unique values for  GFK_URLAUBERTYP :\n",
      "[  1.   2.   3.   4.   5.   6.   7.   8.   9.  10.  11.  12.  nan]\n",
      "Total unique values:  12\n",
      "\n",
      "\n",
      "Unique values for  GREEN_AVANTGARDE :\n",
      "[0 1]\n",
      "Total unique values:  2\n",
      "\n",
      "\n",
      "Unique values for  LP_FAMILIE_FEIN :\n",
      "[  1.   2.   3.   4.   5.   6.   7.   8.   9.  10.  11.  nan]\n",
      "Total unique values:  11\n",
      "\n",
      "\n",
      "Unique values for  LP_FAMILIE_GROB :\n",
      "[  1.   2.   3.   4.   5.  nan]\n",
      "Total unique values:  5\n",
      "\n",
      "\n",
      "Unique values for  LP_STATUS_FEIN :\n",
      "[  1.   2.   3.   4.   5.   6.   7.   8.   9.  10.  nan]\n",
      "Total unique values:  10\n",
      "\n",
      "\n",
      "Unique values for  LP_STATUS_GROB :\n",
      "[  1.   2.   3.   4.   5.  nan]\n",
      "Total unique values:  5\n",
      "\n",
      "\n",
      "Unique values for  NATIONALITAET_KZ :\n",
      "[  1.   2.   3.  nan]\n",
      "Total unique values:  3\n",
      "\n",
      "\n",
      "Unique values for  SHOPPER_TYP :\n",
      "[  0.   1.   2.   3.  nan]\n",
      "Total unique values:  4\n",
      "\n",
      "\n",
      "Unique values for  SOHO_KZ :\n",
      "[ 0.  1.]\n",
      "Total unique values:  2\n",
      "\n",
      "\n",
      "Unique values for  VERS_TYP :\n",
      "[  1.   2.  nan]\n",
      "Total unique values:  2\n",
      "\n",
      "\n",
      "Unique values for  ZABEOTYP :\n",
      "[1 2 3 4 5 6]\n",
      "Total unique values:  6\n",
      "\n",
      "\n",
      "Unique values for  GEBAEUDETYP :\n",
      "[ 1.  2.  3.  4.  5.  6.  8.]\n",
      "Total unique values:  7\n",
      "\n",
      "\n",
      "Unique values for  OST_WEST_KZ :\n",
      "['O' 'W']\n",
      "Total unique values:  2\n",
      "\n",
      "\n",
      "Unique values for  CAMEO_DEUG_2015 :\n",
      "['1' '2' '3' '4' '5' '6' '7' '8' '9' nan]\n",
      "Total unique values:  9\n",
      "\n",
      "\n",
      "Unique values for  CAMEO_DEU_2015 :\n",
      "['1A' '1B' '1C' '1D' '1E' '2A' '2B' '2C' '2D' '3A' '3B' '3C' '3D' '4A' '4B'\n",
      " '4C' '4D' '4E' '5A' '5B' '5C' '5D' '5E' '5F' '6A' '6B' '6C' '6D' '6E' '6F'\n",
      " '7A' '7B' '7C' '7D' '7E' '8A' '8B' '8C' '8D' '9A' '9B' '9C' '9D' '9E' nan]\n",
      "Total unique values:  44\n",
      "\n",
      "\n"
     ]
    }
   ],
   "source": [
    "uniq_cat = pd.DataFrame()\n",
    "for cols in list(feat_cat['attribute']):\n",
    "    print('Unique values for ',cols, ':')\n",
    "    print(azdias_lte20[cols].sort_values().unique())\n",
    "    uniq_vals = azdias_lte20[cols].dropna().sort_values().unique()\n",
    "    len_uniq = len(uniq_vals)\n",
    "    uniq_cat = uniq_cat.append({'Vars': cols, 'Vals': len_uniq, 'Uniqvals':uniq_vals}, ignore_index=True)\n",
    "    print('Total unique values: ', len_uniq)\n",
    "    print('\\n')"
   ]
  },
  {
   "cell_type": "code",
   "execution_count": 58,
   "metadata": {},
   "outputs": [
    {
     "data": {
      "text/html": [
       "<div>\n",
       "<style scoped>\n",
       "    .dataframe tbody tr th:only-of-type {\n",
       "        vertical-align: middle;\n",
       "    }\n",
       "\n",
       "    .dataframe tbody tr th {\n",
       "        vertical-align: top;\n",
       "    }\n",
       "\n",
       "    .dataframe thead th {\n",
       "        text-align: right;\n",
       "    }\n",
       "</style>\n",
       "<table border=\"1\" class=\"dataframe\">\n",
       "  <thead>\n",
       "    <tr style=\"text-align: right;\">\n",
       "      <th></th>\n",
       "      <th>Uniqvals</th>\n",
       "      <th>Vals</th>\n",
       "      <th>Vars</th>\n",
       "    </tr>\n",
       "  </thead>\n",
       "  <tbody>\n",
       "    <tr>\n",
       "      <th>0</th>\n",
       "      <td>[1, 2]</td>\n",
       "      <td>2.0</td>\n",
       "      <td>ANREDE_KZ</td>\n",
       "    </tr>\n",
       "    <tr>\n",
       "      <th>4</th>\n",
       "      <td>[0, 1]</td>\n",
       "      <td>2.0</td>\n",
       "      <td>GREEN_AVANTGARDE</td>\n",
       "    </tr>\n",
       "    <tr>\n",
       "      <th>11</th>\n",
       "      <td>[0.0, 1.0]</td>\n",
       "      <td>2.0</td>\n",
       "      <td>SOHO_KZ</td>\n",
       "    </tr>\n",
       "    <tr>\n",
       "      <th>12</th>\n",
       "      <td>[1.0, 2.0]</td>\n",
       "      <td>2.0</td>\n",
       "      <td>VERS_TYP</td>\n",
       "    </tr>\n",
       "    <tr>\n",
       "      <th>15</th>\n",
       "      <td>[O, W]</td>\n",
       "      <td>2.0</td>\n",
       "      <td>OST_WEST_KZ</td>\n",
       "    </tr>\n",
       "  </tbody>\n",
       "</table>\n",
       "</div>"
      ],
      "text/plain": [
       "      Uniqvals  Vals              Vars\n",
       "0       [1, 2]   2.0         ANREDE_KZ\n",
       "4       [0, 1]   2.0  GREEN_AVANTGARDE\n",
       "11  [0.0, 1.0]   2.0           SOHO_KZ\n",
       "12  [1.0, 2.0]   2.0          VERS_TYP\n",
       "15      [O, W]   2.0       OST_WEST_KZ"
      ]
     },
     "execution_count": 58,
     "metadata": {},
     "output_type": "execute_result"
    }
   ],
   "source": [
    "# Binary variables\n",
    "uniq_cat[uniq_cat['Vals']==2]"
   ]
  },
  {
   "cell_type": "code",
   "execution_count": 59,
   "metadata": {},
   "outputs": [
    {
     "data": {
      "text/html": [
       "<div>\n",
       "<style scoped>\n",
       "    .dataframe tbody tr th:only-of-type {\n",
       "        vertical-align: middle;\n",
       "    }\n",
       "\n",
       "    .dataframe tbody tr th {\n",
       "        vertical-align: top;\n",
       "    }\n",
       "\n",
       "    .dataframe thead th {\n",
       "        text-align: right;\n",
       "    }\n",
       "</style>\n",
       "<table border=\"1\" class=\"dataframe\">\n",
       "  <thead>\n",
       "    <tr style=\"text-align: right;\">\n",
       "      <th></th>\n",
       "      <th>Uniqvals</th>\n",
       "      <th>Vals</th>\n",
       "      <th>Vars</th>\n",
       "    </tr>\n",
       "  </thead>\n",
       "  <tbody>\n",
       "    <tr>\n",
       "      <th>1</th>\n",
       "      <td>[1.0, 2.0, 3.0, 4.0, 5.0, 6.0]</td>\n",
       "      <td>6.0</td>\n",
       "      <td>CJT_GESAMTTYP</td>\n",
       "    </tr>\n",
       "    <tr>\n",
       "      <th>2</th>\n",
       "      <td>[1, 2, 3, 4, 5, 6]</td>\n",
       "      <td>6.0</td>\n",
       "      <td>FINANZTYP</td>\n",
       "    </tr>\n",
       "    <tr>\n",
       "      <th>3</th>\n",
       "      <td>[1.0, 2.0, 3.0, 4.0, 5.0, 6.0, 7.0, 8.0, 9.0, ...</td>\n",
       "      <td>12.0</td>\n",
       "      <td>GFK_URLAUBERTYP</td>\n",
       "    </tr>\n",
       "    <tr>\n",
       "      <th>5</th>\n",
       "      <td>[1.0, 2.0, 3.0, 4.0, 5.0, 6.0, 7.0, 8.0, 9.0, ...</td>\n",
       "      <td>11.0</td>\n",
       "      <td>LP_FAMILIE_FEIN</td>\n",
       "    </tr>\n",
       "    <tr>\n",
       "      <th>6</th>\n",
       "      <td>[1.0, 2.0, 3.0, 4.0, 5.0]</td>\n",
       "      <td>5.0</td>\n",
       "      <td>LP_FAMILIE_GROB</td>\n",
       "    </tr>\n",
       "    <tr>\n",
       "      <th>7</th>\n",
       "      <td>[1.0, 2.0, 3.0, 4.0, 5.0, 6.0, 7.0, 8.0, 9.0, ...</td>\n",
       "      <td>10.0</td>\n",
       "      <td>LP_STATUS_FEIN</td>\n",
       "    </tr>\n",
       "    <tr>\n",
       "      <th>8</th>\n",
       "      <td>[1.0, 2.0, 3.0, 4.0, 5.0]</td>\n",
       "      <td>5.0</td>\n",
       "      <td>LP_STATUS_GROB</td>\n",
       "    </tr>\n",
       "    <tr>\n",
       "      <th>9</th>\n",
       "      <td>[1.0, 2.0, 3.0]</td>\n",
       "      <td>3.0</td>\n",
       "      <td>NATIONALITAET_KZ</td>\n",
       "    </tr>\n",
       "    <tr>\n",
       "      <th>10</th>\n",
       "      <td>[0.0, 1.0, 2.0, 3.0]</td>\n",
       "      <td>4.0</td>\n",
       "      <td>SHOPPER_TYP</td>\n",
       "    </tr>\n",
       "    <tr>\n",
       "      <th>13</th>\n",
       "      <td>[1, 2, 3, 4, 5, 6]</td>\n",
       "      <td>6.0</td>\n",
       "      <td>ZABEOTYP</td>\n",
       "    </tr>\n",
       "    <tr>\n",
       "      <th>14</th>\n",
       "      <td>[1.0, 2.0, 3.0, 4.0, 5.0, 6.0, 8.0]</td>\n",
       "      <td>7.0</td>\n",
       "      <td>GEBAEUDETYP</td>\n",
       "    </tr>\n",
       "    <tr>\n",
       "      <th>16</th>\n",
       "      <td>[1, 2, 3, 4, 5, 6, 7, 8, 9]</td>\n",
       "      <td>9.0</td>\n",
       "      <td>CAMEO_DEUG_2015</td>\n",
       "    </tr>\n",
       "    <tr>\n",
       "      <th>17</th>\n",
       "      <td>[1A, 1B, 1C, 1D, 1E, 2A, 2B, 2C, 2D, 3A, 3B, 3...</td>\n",
       "      <td>44.0</td>\n",
       "      <td>CAMEO_DEU_2015</td>\n",
       "    </tr>\n",
       "  </tbody>\n",
       "</table>\n",
       "</div>"
      ],
      "text/plain": [
       "                                             Uniqvals  Vals              Vars\n",
       "1                      [1.0, 2.0, 3.0, 4.0, 5.0, 6.0]   6.0     CJT_GESAMTTYP\n",
       "2                                  [1, 2, 3, 4, 5, 6]   6.0         FINANZTYP\n",
       "3   [1.0, 2.0, 3.0, 4.0, 5.0, 6.0, 7.0, 8.0, 9.0, ...  12.0   GFK_URLAUBERTYP\n",
       "5   [1.0, 2.0, 3.0, 4.0, 5.0, 6.0, 7.0, 8.0, 9.0, ...  11.0   LP_FAMILIE_FEIN\n",
       "6                           [1.0, 2.0, 3.0, 4.0, 5.0]   5.0   LP_FAMILIE_GROB\n",
       "7   [1.0, 2.0, 3.0, 4.0, 5.0, 6.0, 7.0, 8.0, 9.0, ...  10.0    LP_STATUS_FEIN\n",
       "8                           [1.0, 2.0, 3.0, 4.0, 5.0]   5.0    LP_STATUS_GROB\n",
       "9                                     [1.0, 2.0, 3.0]   3.0  NATIONALITAET_KZ\n",
       "10                               [0.0, 1.0, 2.0, 3.0]   4.0       SHOPPER_TYP\n",
       "13                                 [1, 2, 3, 4, 5, 6]   6.0          ZABEOTYP\n",
       "14                [1.0, 2.0, 3.0, 4.0, 5.0, 6.0, 8.0]   7.0       GEBAEUDETYP\n",
       "16                        [1, 2, 3, 4, 5, 6, 7, 8, 9]   9.0   CAMEO_DEUG_2015\n",
       "17  [1A, 1B, 1C, 1D, 1E, 2A, 2B, 2C, 2D, 3A, 3B, 3...  44.0    CAMEO_DEU_2015"
      ]
     },
     "execution_count": 59,
     "metadata": {},
     "output_type": "execute_result"
    }
   ],
   "source": [
    "# Multi=level variables\n",
    "uniq_cat[uniq_cat['Vals']!=2]"
   ]
  },
  {
   "cell_type": "code",
   "execution_count": 60,
   "metadata": {},
   "outputs": [],
   "source": [
    "# Re-encode categorical variable(s) to be kept in the analysis.\n",
    "\n",
    "azdias_lte20['OST_WEST_KZ'] = np.where(azdias_lte20['OST_WEST_KZ']=='O', 0, 1)\n"
   ]
  },
  {
   "cell_type": "code",
   "execution_count": 61,
   "metadata": {},
   "outputs": [
    {
     "name": "stdout",
     "output_type": "stream",
     "text": [
      "1    628987\n",
      "0    168439\n",
      "Name: OST_WEST_KZ, dtype: int64\n"
     ]
    }
   ],
   "source": [
    "print(azdias_lte20['OST_WEST_KZ'].value_counts())"
   ]
  },
  {
   "cell_type": "code",
   "execution_count": 62,
   "metadata": {},
   "outputs": [],
   "source": [
    "azdias_lte20 = azdias_lte20.drop(uniq_cat[uniq_cat['Vals']!=2].Vars, axis=1)"
   ]
  },
  {
   "cell_type": "code",
   "execution_count": 63,
   "metadata": {},
   "outputs": [
    {
     "name": "stdout",
     "output_type": "stream",
     "text": [
      "(797426, 66)\n"
     ]
    }
   ],
   "source": [
    "print(azdias_lte20.shape)\n"
   ]
  },
  {
   "cell_type": "markdown",
   "metadata": {},
   "source": [
    "#### Discussion 1.2.1: Re-Encode Categorical Features\n",
    "\n",
    "For binary variables, I kept them as they were if they were already numeric (ANREDE_KZ, GREEN_AVANTGARDE, SOHO_KZ, VERS_TYP) and I also encoded the strings to numeric (0 if OST_WEST_KZ='O' and 1 if OST_WEST_KZ='W'). The binary features were kept in the analysis. To keep things simple, I dropped the multi-level categorical features since using multiple dummy variables would increase the number of features significantly.\n"
   ]
  },
  {
   "cell_type": "markdown",
   "metadata": {},
   "source": [
    "#### Step 1.2.2: Engineer Mixed-Type Features\n",
    "\n",
    "There are a handful of features that are marked as \"mixed\" in the feature summary that require special treatment in order to be included in the analysis. There are two in particular that deserve attention; the handling of the rest are up to your own choices:\n",
    "- \"PRAEGENDE_JUGENDJAHRE\" combines information on three dimensions: generation by decade, movement (mainstream vs. avantgarde), and nation (east vs. west). While there aren't enough levels to disentangle east from west, you should create two new variables to capture the other two dimensions: an interval-type variable for decade, and a binary variable for movement.\n",
    "- \"CAMEO_INTL_2015\" combines information on two axes: wealth and life stage. Break up the two-digit codes by their 'tens'-place and 'ones'-place digits into two new ordinal variables (which, for the purposes of this project, is equivalent to just treating them as their raw numeric values).\n",
    "- If you decide to keep or engineer new features around the other mixed-type features, make sure you note your steps in the Discussion section.\n",
    "\n",
    "Be sure to check `Data_Dictionary.md` for the details needed to finish these tasks."
   ]
  },
  {
   "cell_type": "code",
   "execution_count": 64,
   "metadata": {},
   "outputs": [
    {
     "data": {
      "text/html": [
       "<div>\n",
       "<style scoped>\n",
       "    .dataframe tbody tr th:only-of-type {\n",
       "        vertical-align: middle;\n",
       "    }\n",
       "\n",
       "    .dataframe tbody tr th {\n",
       "        vertical-align: top;\n",
       "    }\n",
       "\n",
       "    .dataframe thead th {\n",
       "        text-align: right;\n",
       "    }\n",
       "</style>\n",
       "<table border=\"1\" class=\"dataframe\">\n",
       "  <thead>\n",
       "    <tr style=\"text-align: right;\">\n",
       "      <th></th>\n",
       "      <th>attribute</th>\n",
       "      <th>information_level</th>\n",
       "      <th>type</th>\n",
       "      <th>missing_or_unknown</th>\n",
       "    </tr>\n",
       "  </thead>\n",
       "  <tbody>\n",
       "    <tr>\n",
       "      <th>15</th>\n",
       "      <td>LP_LEBENSPHASE_FEIN</td>\n",
       "      <td>person</td>\n",
       "      <td>mixed</td>\n",
       "      <td>[0]</td>\n",
       "    </tr>\n",
       "    <tr>\n",
       "      <th>16</th>\n",
       "      <td>LP_LEBENSPHASE_GROB</td>\n",
       "      <td>person</td>\n",
       "      <td>mixed</td>\n",
       "      <td>[0]</td>\n",
       "    </tr>\n",
       "    <tr>\n",
       "      <th>22</th>\n",
       "      <td>PRAEGENDE_JUGENDJAHRE</td>\n",
       "      <td>person</td>\n",
       "      <td>mixed</td>\n",
       "      <td>[-1,0]</td>\n",
       "    </tr>\n",
       "    <tr>\n",
       "      <th>56</th>\n",
       "      <td>WOHNLAGE</td>\n",
       "      <td>building</td>\n",
       "      <td>mixed</td>\n",
       "      <td>[-1]</td>\n",
       "    </tr>\n",
       "    <tr>\n",
       "      <th>59</th>\n",
       "      <td>CAMEO_INTL_2015</td>\n",
       "      <td>microcell_rr4</td>\n",
       "      <td>mixed</td>\n",
       "      <td>[-1,XX]</td>\n",
       "    </tr>\n",
       "    <tr>\n",
       "      <th>79</th>\n",
       "      <td>PLZ8_BAUMAX</td>\n",
       "      <td>macrocell_plz8</td>\n",
       "      <td>mixed</td>\n",
       "      <td>[-1,0]</td>\n",
       "    </tr>\n",
       "  </tbody>\n",
       "</table>\n",
       "</div>"
      ],
      "text/plain": [
       "                attribute information_level   type missing_or_unknown\n",
       "15    LP_LEBENSPHASE_FEIN            person  mixed                [0]\n",
       "16    LP_LEBENSPHASE_GROB            person  mixed                [0]\n",
       "22  PRAEGENDE_JUGENDJAHRE            person  mixed             [-1,0]\n",
       "56               WOHNLAGE          building  mixed               [-1]\n",
       "59        CAMEO_INTL_2015     microcell_rr4  mixed            [-1,XX]\n",
       "79            PLZ8_BAUMAX    macrocell_plz8  mixed             [-1,0]"
      ]
     },
     "execution_count": 64,
     "metadata": {},
     "output_type": "execute_result"
    }
   ],
   "source": [
    "# Investigate \"PRAEGENDE_JUGENDJAHRE\" and engineer two new variables.\n",
    "\n",
    "feat_mixed = feat_info2[feat_info2['type']=='mixed']\n",
    "feat_mixed"
   ]
  },
  {
   "cell_type": "code",
   "execution_count": 65,
   "metadata": {},
   "outputs": [
    {
     "name": "stdout",
     "output_type": "stream",
     "text": [
      "Unique values for  LP_LEBENSPHASE_FEIN :\n",
      "[  1.   2.   3.   4.   5.   6.   7.   8.   9.  10.  11.  12.  13.  14.  15.\n",
      "  16.  17.  18.  19.  20.  21.  22.  23.  24.  25.  26.  27.  28.  29.  30.\n",
      "  31.  32.  33.  34.  35.  36.  37.  38.  39.  40.  nan]\n",
      "Total unique values:  40\n",
      "\n",
      "\n",
      "Unique values for  LP_LEBENSPHASE_GROB :\n",
      "[  1.   2.   3.   4.   5.   6.   7.   8.   9.  10.  11.  12.  nan]\n",
      "Total unique values:  12\n",
      "\n",
      "\n",
      "Unique values for  PRAEGENDE_JUGENDJAHRE :\n",
      "[  1.   2.   3.   4.   5.   6.   7.   8.   9.  10.  11.  12.  13.  14.  15.\n",
      "  nan]\n",
      "Total unique values:  15\n",
      "\n",
      "\n",
      "Unique values for  WOHNLAGE :\n",
      "[ 0.  1.  2.  3.  4.  5.  7.  8.]\n",
      "Total unique values:  8\n",
      "\n",
      "\n",
      "Unique values for  CAMEO_INTL_2015 :\n",
      "['12' '13' '14' '15' '22' '23' '24' '25' '31' '32' '33' '34' '35' '41' '43'\n",
      " '44' '45' '51' '52' '54' '55' nan]\n",
      "Total unique values:  21\n",
      "\n",
      "\n",
      "Unique values for  PLZ8_BAUMAX :\n",
      "[  1.   2.   3.   4.   5.  nan]\n",
      "Total unique values:  5\n",
      "\n",
      "\n"
     ]
    }
   ],
   "source": [
    "uniq_mixed = pd.DataFrame()\n",
    "for cols in list(feat_mixed['attribute']):\n",
    "    print('Unique values for ',cols, ':')\n",
    "    print(azdias_lte20[cols].sort_values().unique())\n",
    "    uniq_vals = azdias_lte20[cols].dropna().sort_values().unique()\n",
    "    len_uniq = len(uniq_vals)\n",
    "    uniq_mixed = uniq_mixed.append({'Vars': cols, 'Vals': len_uniq, 'Uniqvals':uniq_vals}, ignore_index=True)\n",
    "    print('Total unique values: ', len_uniq)\n",
    "    print('\\n')"
   ]
  },
  {
   "cell_type": "code",
   "execution_count": 66,
   "metadata": {},
   "outputs": [],
   "source": [
    "dict_decade = {1:1, 2:1, 3:2 , 4:2, 5:3, 6:3, 7:3, 8:4, 9:4, 10:5, 11:5, 12:5, 13:5, 14:6, 15:6}\n",
    "dict_movement = {1:1, 2:0, 3:1 , 4:0, 5:1, 6:0, 7:0, 8:1, 9:0, 10:1, 11:0, 12:1, 13:0, 14:1, 15:0}\n",
    "\n",
    "azdias_lte20['DECADE'] = azdias_lte20['PRAEGENDE_JUGENDJAHRE']\n",
    "azdias_lte20['DECADE'].replace(dict_decade, inplace=True)\n",
    "\n",
    "azdias_lte20['MOVEMENT'] = azdias_lte20['PRAEGENDE_JUGENDJAHRE']\n",
    "azdias_lte20['MOVEMENT'].replace(dict_movement, inplace=True)"
   ]
  },
  {
   "cell_type": "code",
   "execution_count": 67,
   "metadata": {},
   "outputs": [],
   "source": [
    "# Investigate \"CAMEO_INTL_2015\" and engineer two new variables.\n",
    "\n",
    "azdias_lte20['WEALTH'] = azdias_lte20['CAMEO_INTL_2015'].str[0].astype(float)\n",
    "azdias_lte20['LIFESTAGE'] = azdias_lte20['CAMEO_INTL_2015'].str[1].astype(float)"
   ]
  },
  {
   "cell_type": "markdown",
   "metadata": {},
   "source": [
    "#### Discussion 1.2.2: Engineer Mixed-Type Features\n",
    "\n",
    "There were 6 mixed variables in the dataset. I engineered new features for PRAEGENDE_JUGENDJAHRE (DECADE and MOVEMENT) and for CAMEO_INTL_2015 (WEALTH and LIFESTAGE). I dropped the original mixed variables for these as well as other mixed variables in the data ('LP_LEBENSPHASE_FEIN', 'LP_LEBENSPHASE_GROB', 'PRAEGENDE_JUGENDJAHRE', 'WOHNLAGE', 'CAMEO_INTL_2015', 'PLZ8_BAUMAX').\n"
   ]
  },
  {
   "cell_type": "markdown",
   "metadata": {},
   "source": [
    "#### Step 1.2.3: Complete Feature Selection\n",
    "\n",
    "In order to finish this step up, you need to make sure that your data frame now only has the columns that you want to keep. To summarize, the dataframe should consist of the following:\n",
    "- All numeric, interval, and ordinal type columns from the original dataset.\n",
    "- Binary categorical features (all numerically-encoded).\n",
    "- Engineered features from other multi-level categorical features and mixed features.\n",
    "\n",
    "Make sure that for any new columns that you have engineered, that you've excluded the original columns from the final dataset. Otherwise, their values will interfere with the analysis later on the project. For example, you should not keep \"PRAEGENDE_JUGENDJAHRE\", since its values won't be useful for the algorithm: only the values derived from it in the engineered features you created should be retained. As a reminder, your data should only be from **the subset with few or no missing values**."
   ]
  },
  {
   "cell_type": "code",
   "execution_count": 69,
   "metadata": {},
   "outputs": [],
   "source": [
    "# If there are other re-engineering tasks you need to perform, make sure you\n",
    "# take care of them here. (Dealing with missing data will come in step 2.1.)"
   ]
  },
  {
   "cell_type": "code",
   "execution_count": 70,
   "metadata": {},
   "outputs": [
    {
     "name": "stdout",
     "output_type": "stream",
     "text": [
      "(797426, 64)\n"
     ]
    }
   ],
   "source": [
    "# Do whatever you need to in order to ensure that the dataframe only contains\n",
    "# the columns that should be passed to the algorithm functions.\n",
    "azdias_lte20 = azdias_lte20.drop(feat_mixed['attribute'], axis=1)\n",
    "print(azdias_lte20.shape)\n"
   ]
  },
  {
   "cell_type": "code",
   "execution_count": 71,
   "metadata": {},
   "outputs": [
    {
     "name": "stdout",
     "output_type": "stream",
     "text": [
      "float64    41\n",
      "int64      23\n",
      "dtype: int64\n"
     ]
    }
   ],
   "source": [
    "print(azdias_lte20.dtypes.value_counts())"
   ]
  },
  {
   "cell_type": "markdown",
   "metadata": {},
   "source": [
    "### Step 1.3: Create a Cleaning Function\n",
    "\n",
    "Even though you've finished cleaning up the general population demographics data, it's important to look ahead to the future and realize that you'll need to perform the same cleaning steps on the customer demographics data. In this substep, complete the function below to execute the main feature selection, encoding, and re-engineering steps you performed above. Then, when it comes to looking at the customer data in Step 3, you can just run this function on that DataFrame to get the trimmed dataset in a single step."
   ]
  },
  {
   "cell_type": "code",
   "execution_count": 3,
   "metadata": {},
   "outputs": [],
   "source": [
    "def clean_data(df):\n",
    "    \"\"\"\n",
    "    Perform feature trimming, re-encoding, and engineering for demographics\n",
    "    data\n",
    "    \n",
    "    INPUT: Demographics DataFrame\n",
    "    OUTPUT: Trimmed and cleaned demographics DataFrame\n",
    "    \"\"\"\n",
    "    \n",
    "    # Put in code here to execute all main cleaning steps:\n",
    "    # convert missing value codes into NaNs, ...\n",
    "    # if the dtype is object, include quotes for the missing values too inside the list\n",
    "    miss_var0=[]\n",
    "    for i in list(range(feat_info.shape[0])):\n",
    "        miss_var0.append(str(feat_info.iloc[i]['missing_or_unknown'].strip('[]').split(sep=',')))\n",
    "\n",
    "    miss_var = np.where(feat_info['attribute'].isin(df.columns[df.dtypes == \"object\"]),\n",
    "                        miss_var0, feat_info['missing_or_unknown'])\n",
    "\n",
    "\n",
    "    # replace missing/unknown with nan\n",
    "    for i in list(range(len(df.columns))):\n",
    "        if len((eval(miss_var[i]))) != 0:\n",
    "            df[df.columns[i]]=df[df.columns[i]].replace(eval(miss_var[i]), np.nan)\n",
    "    \n",
    "    # remove selected columns and rows, ...\n",
    "    # Remove the outlier columns from the dataset\n",
    "    missing_gt_20 = ['AGER_TYP', 'GEBURTSJAHR', 'TITEL_KZ', 'ALTER_HH', 'KK_KUNDENTYP', 'KBA05_BAUMAX']\n",
    "    df = df.drop(missing_gt_20, axis=1)\n",
    "\n",
    "    # keep rows with less than or equal to 20 missing columns\n",
    "    missing_counts_rows = df.isnull().sum(axis=1)\n",
    "    df = df.loc[missing_counts_rows[missing_counts_rows <=20].index,]\n",
    "\n",
    "    # select, re-encode, and engineer column values.\n",
    "    # recode binary variable\n",
    "    df['OST_WEST_KZ'] = np.where(df['OST_WEST_KZ']=='O', 0, 1)\n",
    "\n",
    "    # drop multilevel categorical variables\n",
    "    multilevel_vars = ['CJT_GESAMTTYP', 'FINANZTYP', 'GFK_URLAUBERTYP', 'LP_FAMILIE_FEIN',\n",
    "                       'LP_FAMILIE_GROB', 'LP_STATUS_FEIN', 'LP_STATUS_GROB', 'NATIONALITAET_KZ',\n",
    "                       'SHOPPER_TYP', 'ZABEOTYP', 'GEBAEUDETYP', 'CAMEO_DEUG_2015', 'CAMEO_DEU_2015']\n",
    "    df = df.drop(multilevel_vars, axis=1)\n",
    "\n",
    "    # reengineer mixed variables\n",
    "    dict_decade = {1:1, 2:1, 3:2 , 4:2, 5:3, 6:3, 7:3, 8:4, 9:4, 10:5, 11:5, 12:5, 13:5, 14:6, 15:6}\n",
    "    dict_movement = {1:1, 2:0, 3:1 , 4:0, 5:1, 6:0, 7:0, 8:1, 9:0, 10:1, 11:0, 12:1, 13:0, 14:1, 15:0}\n",
    "\n",
    "    df['DECADE'] = df['PRAEGENDE_JUGENDJAHRE']\n",
    "    df['DECADE'].replace(dict_decade, inplace=True)\n",
    "\n",
    "    df['MOVEMENT'] = df['PRAEGENDE_JUGENDJAHRE']\n",
    "    df['MOVEMENT'].replace(dict_movement, inplace=True)\n",
    "\n",
    "    # Investigate \"CAMEO_INTL_2015\" and engineer two new variables.\n",
    "    df['WEALTH'] = df['CAMEO_INTL_2015'].str[0].astype(float)\n",
    "    df['LIFESTAGE'] = df['CAMEO_INTL_2015'].str[1].astype(float)\n",
    "\n",
    "    # drop mixed variables\n",
    "    mixed_vars = ['LP_LEBENSPHASE_FEIN', 'LP_LEBENSPHASE_GROB', 'PRAEGENDE_JUGENDJAHRE',\n",
    "                  'WOHNLAGE', 'CAMEO_INTL_2015', 'PLZ8_BAUMAX']\n",
    "\n",
    "    df = df.drop(mixed_vars, axis=1)\n",
    "    print(df.shape)\n",
    "\n",
    "    # Return the cleaned dataframe.\n",
    "    return df\n",
    "    "
   ]
  },
  {
   "cell_type": "code",
   "execution_count": 4,
   "metadata": {},
   "outputs": [
    {
     "name": "stdout",
     "output_type": "stream",
     "text": [
      "(797426, 64)\n"
     ]
    }
   ],
   "source": [
    "# Checking:\n",
    "azdias_lte20 = clean_data(azdias)"
   ]
  },
  {
   "cell_type": "markdown",
   "metadata": {},
   "source": [
    "## Step 2: Feature Transformation\n",
    "\n",
    "### Step 2.1: Apply Feature Scaling\n",
    "\n",
    "Before we apply dimensionality reduction techniques to the data, we need to perform feature scaling so that the principal component vectors are not influenced by the natural differences in scale for features. Starting from this part of the project, you'll want to keep an eye on the [API reference page for sklearn](http://scikit-learn.org/stable/modules/classes.html) to help you navigate to all of the classes and functions that you'll need. In this substep, you'll need to check the following:\n",
    "\n",
    "- sklearn requires that data not have missing values in order for its estimators to work properly. So, before applying the scaler to your data, make sure that you've cleaned the DataFrame of the remaining missing values. This can be as simple as just removing all data points with missing data, or applying an [Imputer](http://scikit-learn.org/stable/modules/generated/sklearn.preprocessing.Imputer.html) to replace all missing values. You might also try a more complicated procedure where you temporarily remove missing values in order to compute the scaling parameters before re-introducing those missing values and applying imputation. Think about how much missing data you have and what possible effects each approach might have on your analysis, and justify your decision in the discussion section below.\n",
    "- For the actual scaling function, a [StandardScaler](http://scikit-learn.org/stable/modules/generated/sklearn.preprocessing.StandardScaler.html) instance is suggested, scaling each feature to mean 0 and standard deviation 1.\n",
    "- For these classes, you can make use of the `.fit_transform()` method to both fit a procedure to the data as well as apply the transformation to the data at the same time. Don't forget to keep the fit sklearn objects handy, since you'll be applying them to the customer demographics data towards the end of the project."
   ]
  },
  {
   "cell_type": "code",
   "execution_count": 5,
   "metadata": {},
   "outputs": [
    {
     "name": "stdout",
     "output_type": "stream",
     "text": [
      "Variables and missing percent:\n",
      "\n",
      "REGIOTYP                 8.080123\n",
      "KKK                      8.080123\n",
      "W_KEIT_KIND_HH           7.386265\n",
      "KBA05_ANTG4              4.957952\n",
      "KBA05_ANTG2              4.957952\n",
      "KBA05_ANTG3              4.957952\n",
      "MOBI_REGIO               4.957952\n",
      "KBA05_ANTG1              4.957952\n",
      "KBA05_GBZ                4.957952\n",
      "HEALTH_TYP               4.566819\n",
      "VERS_TYP                 4.566819\n",
      "DECADE                   3.568732\n",
      "MOVEMENT                 3.568732\n",
      "PLZ8_ANTG2               2.850296\n",
      "PLZ8_ANTG1               2.850296\n",
      "PLZ8_ANTG4               2.850296\n",
      "PLZ8_HHZ                 2.850296\n",
      "PLZ8_GBZ                 2.850296\n",
      "PLZ8_ANTG3               2.850296\n",
      "KBA13_ANZAHL_PKW         1.537071\n",
      "ANZ_HAUSHALTE_AKTIV      0.793804\n",
      "WEALTH                   0.752797\n",
      "LIFESTAGE                0.752797\n",
      "RETOURTYP_BK_S           0.581120\n",
      "ONLINE_AFFINITAET        0.581120\n",
      "ARBEIT                   0.528952\n",
      "RELAT_AB                 0.528952\n",
      "ORTSGR_KLS9              0.516412\n",
      "ANZ_HH_TITEL             0.467504\n",
      "ALTERSKATEGORIE_GROB     0.349123\n",
      "                           ...   \n",
      "GEBAEUDETYP_RASTER       0.000627\n",
      "FINANZ_HAUSBAUER         0.000000\n",
      "SEMIO_REL                0.000000\n",
      "SEMIO_FAM                0.000000\n",
      "SEMIO_SOZ                0.000000\n",
      "GREEN_AVANTGARDE         0.000000\n",
      "FINANZ_UNAUFFAELLIGER    0.000000\n",
      "SEMIO_VERT               0.000000\n",
      "FINANZ_ANLEGER           0.000000\n",
      "FINANZ_VORSORGER         0.000000\n",
      "FINANZ_SPARER            0.000000\n",
      "FINANZ_MINIMALIST        0.000000\n",
      "ANREDE_KZ                0.000000\n",
      "SEMIO_MAT                0.000000\n",
      "SEMIO_LUST               0.000000\n",
      "MIN_GEBAEUDEJAHR         0.000000\n",
      "SEMIO_ERL                0.000000\n",
      "SEMIO_KULT               0.000000\n",
      "SEMIO_RAT                0.000000\n",
      "SEMIO_KRIT               0.000000\n",
      "SEMIO_DOM                0.000000\n",
      "SEMIO_KAEM               0.000000\n",
      "SEMIO_PFLICHT            0.000000\n",
      "SEMIO_TRADV              0.000000\n",
      "SOHO_KZ                  0.000000\n",
      "ANZ_PERSONEN             0.000000\n",
      "ANZ_TITEL                0.000000\n",
      "HH_EINKOMMEN_SCORE       0.000000\n",
      "OST_WEST_KZ              0.000000\n",
      "WOHNDAUER_2008           0.000000\n",
      "Length: 64, dtype: float64\n"
     ]
    }
   ],
   "source": [
    "# If you've not yet cleaned the dataset of all NaN values, then investigate and\n",
    "# do that now.\n",
    "\n",
    "missing_percent_new = azdias_lte20.isnull().sum()/len(azdias_lte20)*100\n",
    "missing_percent_new\n",
    "\n",
    "print(\"Variables and missing percent:\\n\")\n",
    "print(missing_percent_new.sort_values(ascending=False))\n",
    "\n",
    "# Impute nans\n",
    "imputer = Imputer(strategy='most_frequent')\n",
    "azdias_features = pd.DataFrame(imputer.fit_transform(azdias_lte20))\n",
    "azdias_features.columns=azdias_lte20.columns"
   ]
  },
  {
   "cell_type": "code",
   "execution_count": 6,
   "metadata": {},
   "outputs": [],
   "source": [
    "# Apply feature scaling to the general population demographics data.\n",
    "\n",
    "scaler=StandardScaler()\n",
    "azdias_features = pd.DataFrame(scaler.fit_transform(azdias_features))\n",
    "azdias_features.columns = azdias_lte20.columns\n"
   ]
  },
  {
   "cell_type": "markdown",
   "metadata": {},
   "source": [
    "### Discussion 2.1: Apply Feature Scaling\n",
    "\n",
    "The number of missing values for each of the columns were printed. It seems like after cleaning, all of the variables are missing less than 10% of the data for each column. Then imputer equals “most_frequent” was used to replace missing values using the most frequent value along each column.\n",
    "\n",
    "After the imputation of the values, the features were scaled using the StandardScaler, which standardize the features by removing the mean and scaling to unit variance. The standardization is necessary since each feature has different range of values, and we do not want to weigh the features by the larger values."
   ]
  },
  {
   "cell_type": "markdown",
   "metadata": {},
   "source": [
    "### Step 2.2: Perform Dimensionality Reduction\n",
    "\n",
    "On your scaled data, you are now ready to apply dimensionality reduction techniques.\n",
    "\n",
    "- Use sklearn's [PCA](http://scikit-learn.org/stable/modules/generated/sklearn.decomposition.PCA.html) class to apply principal component analysis on the data, thus finding the vectors of maximal variance in the data. To start, you should not set any parameters (so all components are computed) or set a number of components that is at least half the number of features (so there's enough features to see the general trend in variability).\n",
    "- Check out the ratio of variance explained by each principal component as well as the cumulative variance explained. Try plotting the cumulative or sequential values using matplotlib's [`plot()`](https://matplotlib.org/api/_as_gen/matplotlib.pyplot.plot.html) function. Based on what you find, select a value for the number of transformed features you'll retain for the clustering part of the project.\n",
    "- Once you've made a choice for the number of components to keep, make sure you re-fit a PCA instance to perform the decided-on transformation."
   ]
  },
  {
   "cell_type": "code",
   "execution_count": 7,
   "metadata": {},
   "outputs": [],
   "source": [
    "# Apply PCA to the data.\n",
    "\n",
    "pca=PCA(n_components=60)\n",
    "X_pca = pca.fit_transform(azdias_features)\n"
   ]
  },
  {
   "cell_type": "code",
   "execution_count": 8,
   "metadata": {},
   "outputs": [],
   "source": [
    "# Investigate the variance accounted for by each principal component.\n",
    "def scree_plot(pca):\n",
    "    '''\n",
    "    Creates a scree plot associated with the principal components \n",
    "    \n",
    "    INPUT: pca - the result of instantian of PCA in scikit learn\n",
    "            \n",
    "    OUTPUT:\n",
    "            None\n",
    "    '''\n",
    "    num_components=len(pca.explained_variance_ratio_)\n",
    "    ind = np.arange(num_components)\n",
    "    vals = pca.explained_variance_ratio_\n",
    " \n",
    "    plt.figure(figsize=(10, 6))\n",
    "    ax = plt.subplot(111)\n",
    "    cumvals = np.cumsum(vals)\n",
    "    ax.bar(ind, vals)\n",
    "    ax.plot(ind, cumvals)\n",
    "    for i in range(num_components):\n",
    "        ax.annotate(r\"%s%%\" % ((str(vals[i]*100)[:4])), (ind[i]+0.2, vals[i]), va=\"bottom\", ha=\"center\", fontsize=12)\n",
    " \n",
    "    ax.xaxis.set_tick_params(width=0)\n",
    "    ax.yaxis.set_tick_params(width=2, length=12)\n",
    " \n",
    "    ax.set_xlabel(\"Principal Component\")\n",
    "    ax.set_ylabel(\"Variance Explained (%)\")\n",
    "    plt.title('Explained Variance Per Principal Component')\n",
    "    "
   ]
  },
  {
   "cell_type": "code",
   "execution_count": 9,
   "metadata": {},
   "outputs": [
    {
     "data": {
      "text/plain": [
       "0.99630312797395104"
      ]
     },
     "execution_count": 9,
     "metadata": {},
     "output_type": "execute_result"
    },
    {
     "data": {
      "image/png": "[encoded data removed]",
      "text/plain": [
       "<matplotlib.figure.Figure at 0x7f4d3ec6bf28>"
      ]
     },
     "metadata": {
      "needs_background": "light"
     },
     "output_type": "display_data"
    }
   ],
   "source": [
    "scree_plot(pca)\n",
    "sum(pca.explained_variance_ratio_)"
   ]
  },
  {
   "cell_type": "code",
   "execution_count": 10,
   "metadata": {},
   "outputs": [],
   "source": [
    "# Re-apply PCA to the data while selecting for number of components to retain.\n",
    "pca_25 = PCA(n_components=25)\n",
    "final_pca = pca_25.fit_transform(azdias_features)\n"
   ]
  },
  {
   "cell_type": "code",
   "execution_count": 11,
   "metadata": {},
   "outputs": [
    {
     "data": {
      "text/plain": [
       "0.84036097798529197"
      ]
     },
     "execution_count": 11,
     "metadata": {},
     "output_type": "execute_result"
    }
   ],
   "source": [
    "sum(pca_25.explained_variance_ratio_)"
   ]
  },
  {
   "cell_type": "markdown",
   "metadata": {},
   "source": [
    "### Discussion 2.2: Perform Dimensionality Reduction\n",
    "\n",
    "The principal component analysis was used to perform the dimenstionality reduction. This is done to reduce the number of features but keep maximum variability as much as possible. At first the PCA was fit with all of the features present in the dataset and then the scree-plot was plotted to find the best number of features which explains most of the variance. Looking at the scree-plot, I decided to used 25 components, which would explain around 84% of the variability in the dataset. "
   ]
  },
  {
   "cell_type": "markdown",
   "metadata": {},
   "source": [
    "### Step 2.3: Interpret Principal Components\n",
    "\n",
    "Now that we have our transformed principal components, it's a nice idea to check out the weight of each variable on the first few components to see if they can be interpreted in some fashion.\n",
    "\n",
    "As a reminder, each principal component is a unit vector that points in the direction of highest variance (after accounting for the variance captured by earlier principal components). The further a weight is from zero, the more the principal component is in the direction of the corresponding feature. If two features have large weights of the same sign (both positive or both negative), then increases in one tend expect to be associated with increases in the other. To contrast, features with different signs can be expected to show a negative correlation: increases in one variable should result in a decrease in the other.\n",
    "\n",
    "- To investigate the features, you should map each weight to their corresponding feature name, then sort the features according to weight. The most interesting features for each principal component, then, will be those at the beginning and end of the sorted list. Use the data dictionary document to help you understand these most prominent features, their relationships, and what a positive or negative value on the principal component might indicate.\n",
    "- You should investigate and interpret feature associations from the first three principal components in this substep. To help facilitate this, you should write a function that you can call at any time to print the sorted list of feature weights, for the *i*-th principal component. This might come in handy in the next step of the project, when you interpret the tendencies of the discovered clusters."
   ]
  },
  {
   "cell_type": "code",
   "execution_count": 12,
   "metadata": {},
   "outputs": [],
   "source": [
    "# Map weights for the first principal component to corresponding feature names\n",
    "# and then print the linked values, sorted by weight.\n",
    "# HINT: Try defining a function here or in a new cell that you can reuse in the\n",
    "# other cells.\n",
    "\n",
    "def pca_results(full_dataset, pca, component):\n",
    "\n",
    "    # Dimension indexing\n",
    "    dimensions = dimensions = ['Dimension {}'.format(i) for i in range(1,len(pca.components_)+1)]\n",
    "\n",
    "    # PCA components\n",
    "    components = pd.DataFrame(np.round(pca.components_, 4), columns = full_dataset.keys())\n",
    "    components.index = dimensions\n",
    "\n",
    "    # PCA explained variance\n",
    "    ratios = pca.explained_variance_ratio_.reshape(len(pca.components_), 1)\n",
    "    variance_ratios = pd.DataFrame(np.round(ratios, 4), columns = ['Explained Variance'])\n",
    "    variance_ratios.index = dimensions\n",
    "\n",
    "    # Return a concatenated DataFrame\n",
    "    all =  pd.concat([variance_ratios, components], axis = 1)\n",
    "    return all.iloc[(component -1),1:]\n",
    "\n"
   ]
  },
  {
   "cell_type": "code",
   "execution_count": 13,
   "metadata": {},
   "outputs": [
    {
     "data": {
      "text/plain": [
       "PLZ8_ANTG3               0.2253\n",
       "PLZ8_ANTG4               0.2169\n",
       "WEALTH                   0.2047\n",
       "HH_EINKOMMEN_SCORE       0.2023\n",
       "ORTSGR_KLS9              0.1968\n",
       "EWDICHTE                 0.1947\n",
       "FINANZ_HAUSBAUER         0.1596\n",
       "KBA05_ANTG4              0.1540\n",
       "PLZ8_ANTG2               0.1537\n",
       "FINANZ_SPARER            0.1530\n",
       "ARBEIT                   0.1426\n",
       "KBA05_ANTG3              0.1367\n",
       "ANZ_HAUSHALTE_AKTIV      0.1361\n",
       "RELAT_AB                 0.1350\n",
       "SEMIO_PFLICHT            0.1211\n",
       "SEMIO_REL                0.1185\n",
       "DECADE                   0.1122\n",
       "MOVEMENT                 0.1102\n",
       "SEMIO_RAT                0.0995\n",
       "SEMIO_TRADV              0.0936\n",
       "SEMIO_MAT                0.0824\n",
       "SEMIO_FAM                0.0810\n",
       "FINANZ_UNAUFFAELLIGER    0.0810\n",
       "SEMIO_KULT               0.0755\n",
       "FINANZ_ANLEGER           0.0750\n",
       "REGIOTYP                 0.0603\n",
       "SEMIO_SOZ                0.0433\n",
       "PLZ8_HHZ                 0.0423\n",
       "HEALTH_TYP               0.0412\n",
       "KKK                      0.0396\n",
       "                          ...  \n",
       "SEMIO_DOM                0.0238\n",
       "KBA05_ANTG2              0.0138\n",
       "ANREDE_KZ                0.0075\n",
       "SEMIO_KRIT               0.0038\n",
       "SOHO_KZ                 -0.0020\n",
       "ANZ_TITEL               -0.0043\n",
       "RETOURTYP_BK_S          -0.0217\n",
       "SEMIO_VERT              -0.0406\n",
       "ONLINE_AFFINITAET       -0.0413\n",
       "MIN_GEBAEUDEJAHR        -0.0435\n",
       "OST_WEST_KZ             -0.0537\n",
       "WOHNDAUER_2008          -0.0613\n",
       "KBA13_ANZAHL_PKW        -0.0741\n",
       "SEMIO_LUST              -0.0769\n",
       "ANZ_PERSONEN            -0.0781\n",
       "SEMIO_ERL               -0.0801\n",
       "GREEN_AVANTGARDE        -0.1102\n",
       "GEBAEUDETYP_RASTER      -0.1172\n",
       "FINANZ_VORSORGER        -0.1201\n",
       "LIFESTAGE               -0.1252\n",
       "ALTERSKATEGORIE_GROB    -0.1255\n",
       "BALLRAUM                -0.1273\n",
       "INNENSTADT              -0.1646\n",
       "PLZ8_GBZ                -0.1664\n",
       "KONSUMNAEHE             -0.1674\n",
       "KBA05_ANTG1             -0.2145\n",
       "KBA05_GBZ               -0.2161\n",
       "FINANZ_MINIMALIST       -0.2230\n",
       "MOBI_REGIO              -0.2249\n",
       "PLZ8_ANTG1              -0.2256\n",
       "Name: Dimension 1, Length: 64, dtype: float64"
      ]
     },
     "execution_count": 13,
     "metadata": {},
     "output_type": "execute_result"
    }
   ],
   "source": [
    "first_pc = pca_results(azdias_lte20, pca_25,1)\n",
    "first_pc.sort_values(ascending=False, inplace=True)\n",
    "first_pc"
   ]
  },
  {
   "cell_type": "code",
   "execution_count": 14,
   "metadata": {},
   "outputs": [
    {
     "data": {
      "text/plain": [
       "ALTERSKATEGORIE_GROB     0.2563\n",
       "SEMIO_ERL                0.2299\n",
       "FINANZ_VORSORGER         0.2293\n",
       "SEMIO_LUST               0.1802\n",
       "RETOURTYP_BK_S           0.1620\n",
       "FINANZ_HAUSBAUER         0.1217\n",
       "SEMIO_KRIT               0.1180\n",
       "SEMIO_KAEM               0.1164\n",
       "W_KEIT_KIND_HH           0.1148\n",
       "PLZ8_ANTG3               0.0983\n",
       "EWDICHTE                 0.0978\n",
       "ORTSGR_KLS9              0.0965\n",
       "PLZ8_ANTG4               0.0961\n",
       "ANREDE_KZ                0.0932\n",
       "WEALTH                   0.0792\n",
       "KBA05_ANTG4              0.0751\n",
       "SEMIO_DOM                0.0745\n",
       "ARBEIT                   0.0717\n",
       "RELAT_AB                 0.0692\n",
       "PLZ8_ANTG2               0.0681\n",
       "ANZ_HAUSHALTE_AKTIV      0.0664\n",
       "HH_EINKOMMEN_SCORE       0.0618\n",
       "FINANZ_MINIMALIST        0.0594\n",
       "WOHNDAUER_2008           0.0584\n",
       "KBA05_ANTG3              0.0505\n",
       "VERS_TYP                 0.0322\n",
       "ANZ_HH_TITEL             0.0321\n",
       "MOVEMENT                 0.0184\n",
       "PLZ8_HHZ                 0.0158\n",
       "REGIOTYP                 0.0119\n",
       "                          ...  \n",
       "SOHO_KZ                 -0.0020\n",
       "GREEN_AVANTGARDE        -0.0184\n",
       "OST_WEST_KZ             -0.0274\n",
       "KBA13_ANZAHL_PKW        -0.0379\n",
       "GEBAEUDETYP_RASTER      -0.0472\n",
       "MIN_GEBAEUDEJAHR        -0.0491\n",
       "HEALTH_TYP              -0.0569\n",
       "ANZ_PERSONEN            -0.0642\n",
       "BALLRAUM                -0.0646\n",
       "SEMIO_VERT              -0.0729\n",
       "KBA05_ANTG1             -0.0744\n",
       "KONSUMNAEHE             -0.0747\n",
       "PLZ8_GBZ                -0.0751\n",
       "INNENSTADT              -0.0796\n",
       "MOBI_REGIO              -0.0809\n",
       "KBA05_GBZ               -0.0923\n",
       "PLZ8_ANTG1              -0.0963\n",
       "SEMIO_SOZ               -0.1033\n",
       "SEMIO_MAT               -0.1617\n",
       "ONLINE_AFFINITAET       -0.1654\n",
       "SEMIO_RAT               -0.1670\n",
       "SEMIO_FAM               -0.1843\n",
       "FINANZ_ANLEGER          -0.2027\n",
       "SEMIO_KULT              -0.2198\n",
       "SEMIO_PFLICHT           -0.2255\n",
       "FINANZ_UNAUFFAELLIGER   -0.2255\n",
       "SEMIO_TRADV             -0.2283\n",
       "FINANZ_SPARER           -0.2317\n",
       "DECADE                  -0.2386\n",
       "SEMIO_REL               -0.2537\n",
       "Name: Dimension 2, Length: 64, dtype: float64"
      ]
     },
     "execution_count": 14,
     "metadata": {},
     "output_type": "execute_result"
    }
   ],
   "source": [
    "# Map weights for the second principal component to corresponding feature names\n",
    "# and then print the linked values, sorted by weight.\n",
    "\n",
    "second_pc = pca_results(azdias_lte20, pca_25,2)\n",
    "second_pc.sort_values(ascending=False, inplace=True)\n",
    "second_pc"
   ]
  },
  {
   "cell_type": "code",
   "execution_count": 15,
   "metadata": {},
   "outputs": [
    {
     "data": {
      "text/plain": [
       "SEMIO_VERT               0.3447\n",
       "SEMIO_SOZ                0.2619\n",
       "SEMIO_FAM                0.2489\n",
       "SEMIO_KULT               0.2338\n",
       "FINANZ_MINIMALIST        0.1545\n",
       "RETOURTYP_BK_S           0.1091\n",
       "FINANZ_VORSORGER         0.1018\n",
       "W_KEIT_KIND_HH           0.0852\n",
       "ALTERSKATEGORIE_GROB     0.0798\n",
       "SEMIO_REL                0.0678\n",
       "SEMIO_LUST               0.0646\n",
       "SEMIO_MAT                0.0556\n",
       "ORTSGR_KLS9              0.0503\n",
       "EWDICHTE                 0.0495\n",
       "PLZ8_ANTG4               0.0491\n",
       "PLZ8_ANTG3               0.0484\n",
       "GREEN_AVANTGARDE         0.0471\n",
       "ARBEIT                   0.0373\n",
       "RELAT_AB                 0.0343\n",
       "PLZ8_ANTG2               0.0327\n",
       "WOHNDAUER_2008           0.0326\n",
       "WEALTH                   0.0302\n",
       "KBA05_ANTG4              0.0299\n",
       "ANZ_HAUSHALTE_AKTIV      0.0268\n",
       "ANZ_HH_TITEL             0.0139\n",
       "KBA05_ANTG3              0.0118\n",
       "ANZ_TITEL                0.0097\n",
       "PLZ8_HHZ                 0.0056\n",
       "VERS_TYP                 0.0019\n",
       "SOHO_KZ                  0.0002\n",
       "                          ...  \n",
       "KKK                     -0.0155\n",
       "OST_WEST_KZ             -0.0163\n",
       "HH_EINKOMMEN_SCORE      -0.0165\n",
       "MIN_GEBAEUDEJAHR        -0.0180\n",
       "KBA05_ANTG1             -0.0222\n",
       "KBA13_ANZAHL_PKW        -0.0238\n",
       "MOBI_REGIO              -0.0269\n",
       "KBA05_GBZ               -0.0290\n",
       "GEBAEUDETYP_RASTER      -0.0321\n",
       "HEALTH_TYP              -0.0338\n",
       "BALLRAUM                -0.0372\n",
       "FINANZ_HAUSBAUER        -0.0398\n",
       "KONSUMNAEHE             -0.0404\n",
       "PLZ8_GBZ                -0.0406\n",
       "INNENSTADT              -0.0457\n",
       "MOVEMENT                -0.0471\n",
       "PLZ8_ANTG1              -0.0494\n",
       "ONLINE_AFFINITAET       -0.0558\n",
       "SEMIO_TRADV             -0.0795\n",
       "SEMIO_PFLICHT           -0.0801\n",
       "FINANZ_UNAUFFAELLIGER   -0.1011\n",
       "FINANZ_SPARER           -0.1072\n",
       "DECADE                  -0.1117\n",
       "SEMIO_ERL               -0.1752\n",
       "FINANZ_ANLEGER          -0.1910\n",
       "SEMIO_RAT               -0.2178\n",
       "SEMIO_KRIT              -0.2751\n",
       "SEMIO_DOM               -0.3130\n",
       "SEMIO_KAEM              -0.3351\n",
       "ANREDE_KZ               -0.3673\n",
       "Name: Dimension 3, Length: 64, dtype: float64"
      ]
     },
     "execution_count": 15,
     "metadata": {},
     "output_type": "execute_result"
    }
   ],
   "source": [
    "# Map weights for the third principal component to corresponding feature names\n",
    "# and then print the linked values, sorted by weight.\n",
    "third_pc = pca_results(azdias_lte20, pca_25,3)\n",
    "third_pc.sort_values(ascending=False, inplace=True)\n",
    "third_pc\n"
   ]
  },
  {
   "cell_type": "markdown",
   "metadata": {},
   "source": [
    "### Discussion 2.3: Interpret Principal Components\n",
    "\n",
    "First Principal Component : The first principal component has a strong positive relationship with PLZ8_ANTG3(Number of 6-10 family houses in the PLZ8 region) and PLZ8_ANTG4(Number of 10+ family houses in the PLZ8 region) and a strong negative relationship with MOBI_REGIO(Movement patterns) and PLZ8_ANTG1(Number of 1-2 family houses in the PLZ8 region). The larger value of PC1 is highly related to larger values in PLZ8_ANTG3(Number of 6-10 family houses in the PLZ8 region) and PLZ8_ANTG4(Number of 10+ family houses in the PLZ8 region); the smaller value of PC1 is related with larger value in MOBI_REGIO(Movement patterns) and PLZ8_ANTG1(Number of 1-2 family houses in the PLZ8 region).\n",
    "\n",
    "Second Principal Component : The first principal component has a strong positive relationship with ALTERSKATEGORIE_GROB(Estimated age based on given name analysis) and SEMIO_ERL(event-oriented) and a strong negative realtionship with DECADE and SEMIO_REL(religious). \n",
    "\n",
    "Third Principal Component : The first principal component has a strong positive relationship with SEMIO_VERT(dreamful) and SEMIO_SOZ(socially-minded) and a strong negative realtionship with SEMIO_KAEM(combative attitude) and ANREDE_KZ(Gender). \n",
    "\n"
   ]
  },
  {
   "cell_type": "markdown",
   "metadata": {},
   "source": [
    "## Step 3: Clustering\n",
    "\n",
    "### Step 3.1: Apply Clustering to General Population\n",
    "\n",
    "You've assessed and cleaned the demographics data, then scaled and transformed them. Now, it's time to see how the data clusters in the principal components space. In this substep, you will apply k-means clustering to the dataset and use the average within-cluster distances from each point to their assigned cluster's centroid to decide on a number of clusters to keep.\n",
    "\n",
    "- Use sklearn's [KMeans](http://scikit-learn.org/stable/modules/generated/sklearn.cluster.KMeans.html#sklearn.cluster.KMeans) class to perform k-means clustering on the PCA-transformed data.\n",
    "- Then, compute the average difference from each point to its assigned cluster's center. **Hint**: The KMeans object's `.score()` method might be useful here, but note that in sklearn, scores tend to be defined so that larger is better. Try applying it to a small, toy dataset, or use an internet search to help your understanding.\n",
    "- Perform the above two steps for a number of different cluster counts. You can then see how the average distance decreases with an increasing number of clusters. However, each additional cluster provides a smaller net benefit. Use this fact to select a final number of clusters in which to group the data. **Warning**: because of the large size of the dataset, it can take a long time for the algorithm to resolve. The more clusters to fit, the longer the algorithm will take. You should test for cluster counts through at least 10 clusters to get the full picture, but you shouldn't need to test for a number of clusters above about 30.\n",
    "- Once you've selected a final number of clusters to use, re-fit a KMeans instance to perform the clustering operation. Make sure that you also obtain the cluster assignments for the general demographics data, since you'll be using them in the final Step 3.3."
   ]
  },
  {
   "cell_type": "code",
   "execution_count": 72,
   "metadata": {},
   "outputs": [
    {
     "name": "stdout",
     "output_type": "stream",
     "text": [
      "1\n",
      "2\n",
      "3\n",
      "4\n",
      "5\n",
      "6\n",
      "7\n",
      "8\n",
      "9\n",
      "10\n",
      "11\n",
      "12\n",
      "13\n",
      "14\n",
      "15\n"
     ]
    }
   ],
   "source": [
    "def get_kmeans_score(data, center):\n",
    "    kmeans = KMeans(n_clusters=center)\n",
    "    model = kmeans.fit(data)\n",
    "    score = np.abs(model.score(data))\n",
    "    \n",
    "    return score\n",
    "\n",
    "# Over a number of different cluster counts...\n",
    "scores = []\n",
    "centers = list(range(1,16))\n",
    "\n",
    "# run k-means clustering on the data and...\n",
    "# compute the average within-cluster distances.\n",
    "for center in centers:\n",
    "    print(center)\n",
    "    scores.append(get_kmeans_score(final_pca, center))\n",
    "    \n",
    "    "
   ]
  },
  {
   "cell_type": "code",
   "execution_count": 73,
   "metadata": {},
   "outputs": [
    {
     "data": {
      "image/png": "[encoded data removed]",
      "text/plain": [
       "<matplotlib.figure.Figure at 0x7f4d3eac8860>"
      ]
     },
     "metadata": {},
     "output_type": "display_data"
    }
   ],
   "source": [
    "# Investigate the change in within-cluster distance across number of clusters.\n",
    "# HINT: Use matplotlib's plot function to visualize this relationship.\n",
    "\n",
    "plt.plot(centers, scores, linestyle='--', marker='o', color='b');\n",
    "plt.xlabel('K');\n",
    "plt.ylabel('SSE');\n",
    "plt.title('SSE vs. K');\n"
   ]
  },
  {
   "cell_type": "code",
   "execution_count": 16,
   "metadata": {},
   "outputs": [],
   "source": [
    "# Re-fit the k-means model with the selected number of clusters and obtain\n",
    "# cluster predictions for the general population demographics data.\n",
    "kmeans = KMeans(n_clusters = 12)\n",
    "model_12 = kmeans.fit(final_pca)\n",
    "azdias_pred = model_12.predict(final_pca)"
   ]
  },
  {
   "cell_type": "markdown",
   "metadata": {},
   "source": [
    "### Discussion 3.1: Apply Clustering to General Population\n",
    "\n",
    "After the pre-processing and scaling of the data, the principal component analysis was performed and then the results were used to generate the clusters. Different numbers of clusters were tested from 1 through 15, after that, the within-cluster distance across the number of clusters were plotted to determine which numbers of clusters were appropriate. The SSE didn't decrease a lot more after k = 12, hence I decided to use 12 clusters.\n",
    "\n"
   ]
  },
  {
   "cell_type": "markdown",
   "metadata": {},
   "source": [
    "### Step 3.2: Apply All Steps to the Customer Data\n",
    "\n",
    "Now that you have clusters and cluster centers for the general population, it's time to see how the customer data maps on to those clusters. Take care to not confuse this for re-fitting all of the models to the customer data. Instead, you're going to use the fits from the general population to clean, transform, and cluster the customer data. In the last step of the project, you will interpret how the general population fits apply to the customer data.\n",
    "\n",
    "- Don't forget when loading in the customers data, that it is semicolon (`;`) delimited.\n",
    "- Apply the same feature wrangling, selection, and engineering steps to the customer demographics using the `clean_data()` function you created earlier. (You can assume that the customer demographics data has similar meaning behind missing data patterns as the general demographics data.)\n",
    "- Use the sklearn objects from the general demographics data, and apply their transformations to the customers data. That is, you should not be using a `.fit()` or `.fit_transform()` method to re-fit the old objects, nor should you be creating new sklearn objects! Carry the data through the feature scaling, PCA, and clustering steps, obtaining cluster assignments for all of the data in the customer demographics data."
   ]
  },
  {
   "cell_type": "code",
   "execution_count": 17,
   "metadata": {},
   "outputs": [],
   "source": [
    "# Load in the customer demographics data.\n",
    "customers = pd.read_csv ('Udacity_CUSTOMERS_Subset.csv', sep = ';')\n",
    "customers.describe()"
   ]
  },
  {
   "cell_type": "code",
   "execution_count": 18,
   "metadata": {},
   "outputs": [
    {
     "name": "stdout",
     "output_type": "stream",
     "text": [
      "(141640, 64)\n"
     ]
    },
    {
     "data": {
      "text/html": [
       "<div>\n",
       "<style scoped>\n",
       "    .dataframe tbody tr th:only-of-type {\n",
       "        vertical-align: middle;\n",
       "    }\n",
       "\n",
       "    .dataframe tbody tr th {\n",
       "        vertical-align: top;\n",
       "    }\n",
       "\n",
       "    .dataframe thead th {\n",
       "        text-align: right;\n",
       "    }\n",
       "</style>\n",
       "<table border=\"1\" class=\"dataframe\">\n",
       "  <thead>\n",
       "    <tr style=\"text-align: right;\">\n",
       "      <th></th>\n",
       "      <th>AGER_TYP</th>\n",
       "      <th>ALTERSKATEGORIE_GROB</th>\n",
       "      <th>ANREDE_KZ</th>\n",
       "      <th>CJT_GESAMTTYP</th>\n",
       "      <th>FINANZ_MINIMALIST</th>\n",
       "      <th>FINANZ_SPARER</th>\n",
       "      <th>FINANZ_VORSORGER</th>\n",
       "      <th>FINANZ_ANLEGER</th>\n",
       "      <th>FINANZ_UNAUFFAELLIGER</th>\n",
       "      <th>FINANZ_HAUSBAUER</th>\n",
       "      <th>...</th>\n",
       "      <th>PLZ8_ANTG1</th>\n",
       "      <th>PLZ8_ANTG2</th>\n",
       "      <th>PLZ8_ANTG3</th>\n",
       "      <th>PLZ8_ANTG4</th>\n",
       "      <th>PLZ8_BAUMAX</th>\n",
       "      <th>PLZ8_HHZ</th>\n",
       "      <th>PLZ8_GBZ</th>\n",
       "      <th>ARBEIT</th>\n",
       "      <th>ORTSGR_KLS9</th>\n",
       "      <th>RELAT_AB</th>\n",
       "    </tr>\n",
       "  </thead>\n",
       "  <tbody>\n",
       "    <tr>\n",
       "      <th>count</th>\n",
       "      <td>94914.000000</td>\n",
       "      <td>191412.000000</td>\n",
       "      <td>191652.000000</td>\n",
       "      <td>188439.000000</td>\n",
       "      <td>191652.000000</td>\n",
       "      <td>191652.000000</td>\n",
       "      <td>191652.000000</td>\n",
       "      <td>191652.000000</td>\n",
       "      <td>191652.000000</td>\n",
       "      <td>191652.000000</td>\n",
       "      <td>...</td>\n",
       "      <td>138888.000000</td>\n",
       "      <td>138888.000000</td>\n",
       "      <td>138888.000000</td>\n",
       "      <td>138888.000000</td>\n",
       "      <td>138888.000000</td>\n",
       "      <td>138888.000000</td>\n",
       "      <td>138888.000000</td>\n",
       "      <td>141153.000000</td>\n",
       "      <td>141176.000000</td>\n",
       "      <td>141153.000000</td>\n",
       "    </tr>\n",
       "    <tr>\n",
       "      <th>mean</th>\n",
       "      <td>1.665761</td>\n",
       "      <td>3.053461</td>\n",
       "      <td>1.376432</td>\n",
       "      <td>3.677928</td>\n",
       "      <td>3.963773</td>\n",
       "      <td>2.057051</td>\n",
       "      <td>4.183317</td>\n",
       "      <td>2.439808</td>\n",
       "      <td>2.646176</td>\n",
       "      <td>2.781176</td>\n",
       "      <td>...</td>\n",
       "      <td>2.537404</td>\n",
       "      <td>2.731510</td>\n",
       "      <td>1.388817</td>\n",
       "      <td>0.539939</td>\n",
       "      <td>1.556607</td>\n",
       "      <td>3.634893</td>\n",
       "      <td>3.622192</td>\n",
       "      <td>2.823844</td>\n",
       "      <td>5.119517</td>\n",
       "      <td>2.897515</td>\n",
       "    </tr>\n",
       "    <tr>\n",
       "      <th>std</th>\n",
       "      <td>0.636370</td>\n",
       "      <td>1.066370</td>\n",
       "      <td>0.484492</td>\n",
       "      <td>1.813975</td>\n",
       "      <td>1.036230</td>\n",
       "      <td>1.319422</td>\n",
       "      <td>0.995365</td>\n",
       "      <td>1.697932</td>\n",
       "      <td>1.586506</td>\n",
       "      <td>1.147353</td>\n",
       "      <td>...</td>\n",
       "      <td>0.904927</td>\n",
       "      <td>0.840922</td>\n",
       "      <td>0.885038</td>\n",
       "      <td>0.637048</td>\n",
       "      <td>1.185736</td>\n",
       "      <td>0.933660</td>\n",
       "      <td>1.008472</td>\n",
       "      <td>1.009424</td>\n",
       "      <td>2.159184</td>\n",
       "      <td>1.420665</td>\n",
       "    </tr>\n",
       "    <tr>\n",
       "      <th>min</th>\n",
       "      <td>1.000000</td>\n",
       "      <td>1.000000</td>\n",
       "      <td>1.000000</td>\n",
       "      <td>1.000000</td>\n",
       "      <td>1.000000</td>\n",
       "      <td>1.000000</td>\n",
       "      <td>1.000000</td>\n",
       "      <td>1.000000</td>\n",
       "      <td>1.000000</td>\n",
       "      <td>1.000000</td>\n",
       "      <td>...</td>\n",
       "      <td>0.000000</td>\n",
       "      <td>0.000000</td>\n",
       "      <td>0.000000</td>\n",
       "      <td>0.000000</td>\n",
       "      <td>1.000000</td>\n",
       "      <td>1.000000</td>\n",
       "      <td>1.000000</td>\n",
       "      <td>1.000000</td>\n",
       "      <td>1.000000</td>\n",
       "      <td>1.000000</td>\n",
       "    </tr>\n",
       "    <tr>\n",
       "      <th>25%</th>\n",
       "      <td>1.000000</td>\n",
       "      <td>3.000000</td>\n",
       "      <td>1.000000</td>\n",
       "      <td>2.000000</td>\n",
       "      <td>3.000000</td>\n",
       "      <td>1.000000</td>\n",
       "      <td>3.000000</td>\n",
       "      <td>1.000000</td>\n",
       "      <td>1.000000</td>\n",
       "      <td>2.000000</td>\n",
       "      <td>...</td>\n",
       "      <td>2.000000</td>\n",
       "      <td>2.000000</td>\n",
       "      <td>1.000000</td>\n",
       "      <td>0.000000</td>\n",
       "      <td>1.000000</td>\n",
       "      <td>3.000000</td>\n",
       "      <td>3.000000</td>\n",
       "      <td>2.000000</td>\n",
       "      <td>4.000000</td>\n",
       "      <td>2.000000</td>\n",
       "    </tr>\n",
       "    <tr>\n",
       "      <th>50%</th>\n",
       "      <td>2.000000</td>\n",
       "      <td>3.000000</td>\n",
       "      <td>1.000000</td>\n",
       "      <td>4.000000</td>\n",
       "      <td>4.000000</td>\n",
       "      <td>1.000000</td>\n",
       "      <td>5.000000</td>\n",
       "      <td>2.000000</td>\n",
       "      <td>2.000000</td>\n",
       "      <td>3.000000</td>\n",
       "      <td>...</td>\n",
       "      <td>3.000000</td>\n",
       "      <td>3.000000</td>\n",
       "      <td>1.000000</td>\n",
       "      <td>0.000000</td>\n",
       "      <td>1.000000</td>\n",
       "      <td>3.000000</td>\n",
       "      <td>4.000000</td>\n",
       "      <td>3.000000</td>\n",
       "      <td>5.000000</td>\n",
       "      <td>3.000000</td>\n",
       "    </tr>\n",
       "    <tr>\n",
       "      <th>75%</th>\n",
       "      <td>2.000000</td>\n",
       "      <td>4.000000</td>\n",
       "      <td>2.000000</td>\n",
       "      <td>6.000000</td>\n",
       "      <td>5.000000</td>\n",
       "      <td>4.000000</td>\n",
       "      <td>5.000000</td>\n",
       "      <td>5.000000</td>\n",
       "      <td>5.000000</td>\n",
       "      <td>3.000000</td>\n",
       "      <td>...</td>\n",
       "      <td>3.000000</td>\n",
       "      <td>3.000000</td>\n",
       "      <td>2.000000</td>\n",
       "      <td>1.000000</td>\n",
       "      <td>1.000000</td>\n",
       "      <td>4.000000</td>\n",
       "      <td>4.000000</td>\n",
       "      <td>4.000000</td>\n",
       "      <td>7.000000</td>\n",
       "      <td>4.000000</td>\n",
       "    </tr>\n",
       "    <tr>\n",
       "      <th>max</th>\n",
       "      <td>3.000000</td>\n",
       "      <td>4.000000</td>\n",
       "      <td>2.000000</td>\n",
       "      <td>6.000000</td>\n",
       "      <td>5.000000</td>\n",
       "      <td>5.000000</td>\n",
       "      <td>5.000000</td>\n",
       "      <td>5.000000</td>\n",
       "      <td>5.000000</td>\n",
       "      <td>5.000000</td>\n",
       "      <td>...</td>\n",
       "      <td>4.000000</td>\n",
       "      <td>4.000000</td>\n",
       "      <td>3.000000</td>\n",
       "      <td>2.000000</td>\n",
       "      <td>5.000000</td>\n",
       "      <td>5.000000</td>\n",
       "      <td>5.000000</td>\n",
       "      <td>5.000000</td>\n",
       "      <td>9.000000</td>\n",
       "      <td>5.000000</td>\n",
       "    </tr>\n",
       "  </tbody>\n",
       "</table>\n",
       "<p>8 rows × 81 columns</p>\n",
       "</div>"
      ],
      "text/plain": [
       "           AGER_TYP  ALTERSKATEGORIE_GROB      ANREDE_KZ  CJT_GESAMTTYP  \\\n",
       "count  94914.000000         191412.000000  191652.000000  188439.000000   \n",
       "mean       1.665761              3.053461       1.376432       3.677928   \n",
       "std        0.636370              1.066370       0.484492       1.813975   \n",
       "min        1.000000              1.000000       1.000000       1.000000   \n",
       "25%        1.000000              3.000000       1.000000       2.000000   \n",
       "50%        2.000000              3.000000       1.000000       4.000000   \n",
       "75%        2.000000              4.000000       2.000000       6.000000   \n",
       "max        3.000000              4.000000       2.000000       6.000000   \n",
       "\n",
       "       FINANZ_MINIMALIST  FINANZ_SPARER  FINANZ_VORSORGER  FINANZ_ANLEGER  \\\n",
       "count      191652.000000  191652.000000     191652.000000   191652.000000   \n",
       "mean            3.963773       2.057051          4.183317        2.439808   \n",
       "std             1.036230       1.319422          0.995365        1.697932   \n",
       "min             1.000000       1.000000          1.000000        1.000000   \n",
       "25%             3.000000       1.000000          3.000000        1.000000   \n",
       "50%             4.000000       1.000000          5.000000        2.000000   \n",
       "75%             5.000000       4.000000          5.000000        5.000000   \n",
       "max             5.000000       5.000000          5.000000        5.000000   \n",
       "\n",
       "       FINANZ_UNAUFFAELLIGER  FINANZ_HAUSBAUER      ...           PLZ8_ANTG1  \\\n",
       "count          191652.000000     191652.000000      ...        138888.000000   \n",
       "mean                2.646176          2.781176      ...             2.537404   \n",
       "std                 1.586506          1.147353      ...             0.904927   \n",
       "min                 1.000000          1.000000      ...             0.000000   \n",
       "25%                 1.000000          2.000000      ...             2.000000   \n",
       "50%                 2.000000          3.000000      ...             3.000000   \n",
       "75%                 5.000000          3.000000      ...             3.000000   \n",
       "max                 5.000000          5.000000      ...             4.000000   \n",
       "\n",
       "          PLZ8_ANTG2     PLZ8_ANTG3     PLZ8_ANTG4    PLZ8_BAUMAX  \\\n",
       "count  138888.000000  138888.000000  138888.000000  138888.000000   \n",
       "mean        2.731510       1.388817       0.539939       1.556607   \n",
       "std         0.840922       0.885038       0.637048       1.185736   \n",
       "min         0.000000       0.000000       0.000000       1.000000   \n",
       "25%         2.000000       1.000000       0.000000       1.000000   \n",
       "50%         3.000000       1.000000       0.000000       1.000000   \n",
       "75%         3.000000       2.000000       1.000000       1.000000   \n",
       "max         4.000000       3.000000       2.000000       5.000000   \n",
       "\n",
       "            PLZ8_HHZ       PLZ8_GBZ         ARBEIT    ORTSGR_KLS9  \\\n",
       "count  138888.000000  138888.000000  141153.000000  141176.000000   \n",
       "mean        3.634893       3.622192       2.823844       5.119517   \n",
       "std         0.933660       1.008472       1.009424       2.159184   \n",
       "min         1.000000       1.000000       1.000000       1.000000   \n",
       "25%         3.000000       3.000000       2.000000       4.000000   \n",
       "50%         3.000000       4.000000       3.000000       5.000000   \n",
       "75%         4.000000       4.000000       4.000000       7.000000   \n",
       "max         5.000000       5.000000       5.000000       9.000000   \n",
       "\n",
       "            RELAT_AB  \n",
       "count  141153.000000  \n",
       "mean        2.897515  \n",
       "std         1.420665  \n",
       "min         1.000000  \n",
       "25%         2.000000  \n",
       "50%         3.000000  \n",
       "75%         4.000000  \n",
       "max         5.000000  \n",
       "\n",
       "[8 rows x 81 columns]"
      ]
     },
     "execution_count": 18,
     "metadata": {},
     "output_type": "execute_result"
    }
   ],
   "source": [
    "# Get clean data\n",
    "customers_clean = clean_data(customers)\n",
    "\n"
   ]
  },
  {
   "cell_type": "code",
   "execution_count": 21,
   "metadata": {},
   "outputs": [],
   "source": [
    "# Apply preprocessing, feature transformation, and clustering from the general\n",
    "# demographics onto the customer data, obtaining cluster predictions for the\n",
    "# customer demographics data.\n",
    "\n",
    "# Impute nans\n",
    "customers_features = pd.DataFrame(imputer.transform(customers_clean))\n",
    "customers_features.columns=customers_clean.columns\n",
    "\n",
    "# feature transformation\n",
    "customers_scaled = pd.DataFrame(scaler.transform(customers_features))\n",
    "customers_pca = pca_25.transform(customers_scaled)\n",
    "\n",
    "# cluster prediction\n",
    "customer_pred = model_12.predict(customers_pca)\n"
   ]
  },
  {
   "cell_type": "markdown",
   "metadata": {},
   "source": [
    "### Step 3.3: Compare Customer Data to Demographics Data\n",
    "\n",
    "At this point, you have clustered data based on demographics of the general population of Germany, and seen how the customer data for a mail-order sales company maps onto those demographic clusters. In this final substep, you will compare the two cluster distributions to see where the strongest customer base for the company is.\n",
    "\n",
    "Consider the proportion of persons in each cluster for the general population, and the proportions for the customers. If we think the company's customer base to be universal, then the cluster assignment proportions should be fairly similar between the two. If there are only particular segments of the population that are interested in the company's products, then we should see a mismatch from one to the other. If there is a higher proportion of persons in a cluster for the customer data compared to the general population (e.g. 5% of persons are assigned to a cluster for the general population, but 15% of the customer data is closest to that cluster's centroid) then that suggests the people in that cluster to be a target audience for the company. On the other hand, the proportion of the data in a cluster being larger in the general population than the customer data (e.g. only 2% of customers closest to a population centroid that captures 6% of the data) suggests that group of persons to be outside of the target demographics.\n",
    "\n",
    "Take a look at the following points in this step:\n",
    "\n",
    "- Compute the proportion of data points in each cluster for the general population and the customer data. Visualizations will be useful here: both for the individual dataset proportions, but also to visualize the ratios in cluster representation between groups. Seaborn's [`countplot()`](https://seaborn.pydata.org/generated/seaborn.countplot.html) or [`barplot()`](https://seaborn.pydata.org/generated/seaborn.barplot.html) function could be handy.\n",
    "  - Recall the analysis you performed in step 1.1.3 of the project, where you separated out certain data points from the dataset if they had more than a specified threshold of missing values. If you found that this group was qualitatively different from the main bulk of the data, you should treat this as an additional data cluster in this analysis. Make sure that you account for the number of data points in this subset, for both the general population and customer datasets, when making your computations!\n",
    "- Which cluster or clusters are overrepresented in the customer dataset compared to the general population? Select at least one such cluster and infer what kind of people might be represented by that cluster. Use the principal component interpretations from step 2.3 or look at additional components to help you make this inference. Alternatively, you can use the `.inverse_transform()` method of the PCA and StandardScaler objects to transform centroids back to the original data space and interpret the retrieved values directly.\n",
    "- Perform a similar investigation for the underrepresented clusters. Which cluster or clusters are underrepresented in the customer dataset compared to the general population, and what kinds of people are typified by these clusters?"
   ]
  },
  {
   "cell_type": "code",
   "execution_count": 22,
   "metadata": {
    "scrolled": true
   },
   "outputs": [
    {
     "data": {
      "image/png": "[encoded data removed]",
      "text/plain": [
       "<matplotlib.figure.Figure at 0x7f4d3577b160>"
      ]
     },
     "metadata": {},
     "output_type": "display_data"
    },
    {
     "data": {
      "image/png": "[encoded data removed]",
      "text/plain": [
       "<matplotlib.figure.Figure at 0x7f4d3574ccc0>"
      ]
     },
     "metadata": {},
     "output_type": "display_data"
    }
   ],
   "source": [
    "# Compare the proportion of data in each cluster for the customer data to the\n",
    "# proportion of data in each cluster for the general population.\n",
    "\n",
    "\n",
    "from matplotlib.pyplot import show\n",
    "\n",
    "\n",
    "sns.set(style=\"darkgrid\")\n",
    "total = len(customer_pred)\n",
    "ax1 = sns.countplot(customer_pred)\n",
    "ax1.set_title('Customer Clusters') \n",
    "for p in ax1.patches:\n",
    "    height = p.get_height()\n",
    "    ax1.text(p.get_x()+p.get_width()/2.,\n",
    "            height + 3,\n",
    "            '{:1.2f}'.format(height/total),\n",
    "            ha=\"center\") \n",
    "show()\n",
    "\n",
    "total2 = len(azdias_pred)\n",
    "ax2 = sns.countplot(azdias_pred)\n",
    "ax2.set_title('Azdias Clusters') \n",
    "for p in ax2.patches:\n",
    "    height = p.get_height()\n",
    "    ax2.text(p.get_x()+p.get_width()/2.,\n",
    "            height + 3,\n",
    "            '{:1.2f}'.format(height/total2),\n",
    "            ha=\"center\") \n"
   ]
  },
  {
   "cell_type": "code",
   "execution_count": 23,
   "metadata": {},
   "outputs": [
    {
     "name": "stdout",
     "output_type": "stream",
     "text": [
      "                                 0\n",
      "ALTERSKATEGORIE_GROB      3.265663\n",
      "ANREDE_KZ                 1.070045\n",
      "FINANZ_MINIMALIST         4.781347\n",
      "FINANZ_SPARER             1.655745\n",
      "FINANZ_VORSORGER          4.180511\n",
      "FINANZ_ANLEGER            1.533269\n",
      "FINANZ_UNAUFFAELLIGER     2.199662\n",
      "FINANZ_HAUSBAUER          1.941321\n",
      "GREEN_AVANTGARDE          0.982607\n",
      "HEALTH_TYP                2.104510\n",
      "RETOURTYP_BK_S            4.020672\n",
      "SEMIO_SOZ                 5.309762\n",
      "SEMIO_FAM                 4.850557\n",
      "SEMIO_REL                 3.746158\n",
      "SEMIO_MAT                 3.824742\n",
      "SEMIO_VERT                6.212104\n",
      "SEMIO_LUST                5.318920\n",
      "SEMIO_ERL                 4.131085\n",
      "SEMIO_KULT                4.852136\n",
      "SEMIO_RAT                 2.688754\n",
      "SEMIO_KRIT                3.233125\n",
      "SEMIO_DOM                 3.343457\n",
      "SEMIO_KAEM                2.712261\n",
      "SEMIO_PFLICHT             3.304031\n",
      "SEMIO_TRADV               3.125743\n",
      "SOHO_KZ                   0.008362\n",
      "VERS_TYP                  1.504518\n",
      "ANZ_PERSONEN              2.252313\n",
      "ANZ_TITEL                 0.000155\n",
      "HH_EINKOMMEN_SCORE        2.408539\n",
      "W_KEIT_KIND_HH            4.226490\n",
      "WOHNDAUER_2008            8.451220\n",
      "ANZ_HAUSHALTE_AKTIV       2.011564\n",
      "ANZ_HH_TITEL              0.004848\n",
      "KONSUMNAEHE               3.388405\n",
      "MIN_GEBAEUDEJAHR       1993.141732\n",
      "OST_WEST_KZ               0.899556\n",
      "KBA05_ANTG1               2.620249\n",
      "KBA05_ANTG2               1.144538\n",
      "KBA05_ANTG3               0.056851\n",
      "KBA05_ANTG4               0.004705\n",
      "KBA05_GBZ                 4.064409\n",
      "BALLRAUM                  4.069326\n",
      "EWDICHTE                  3.967447\n",
      "INNENSTADT                4.592925\n",
      "GEBAEUDETYP_RASTER        3.945112\n",
      "KKK                       2.168172\n",
      "MOBI_REGIO                4.033034\n",
      "ONLINE_AFFINITAET         3.185473\n",
      "REGIOTYP                  3.582553\n",
      "KBA13_ANZAHL_PKW        695.141350\n",
      "PLZ8_ANTG1                2.760308\n",
      "PLZ8_ANTG2                2.579908\n",
      "PLZ8_ANTG3                1.194178\n",
      "PLZ8_ANTG4                0.378023\n",
      "PLZ8_HHZ                  3.676909\n",
      "PLZ8_GBZ                  3.874236\n",
      "ARBEIT                    3.031542\n",
      "ORTSGR_KLS9               5.332416\n",
      "RELAT_AB                  2.948080\n",
      "DECADE                    3.602094\n",
      "MOVEMENT                  0.017393\n",
      "WEALTH                    2.122269\n",
      "LIFESTAGE                 3.553270\n"
     ]
    }
   ],
   "source": [
    "# What kinds of people are part of a cluster that is overrepresented in the\n",
    "# customer data compared to the general population?\n",
    "\n",
    "centroid_1 = scaler.inverse_transform(pca_25.inverse_transform(model_12.cluster_centers_[1]))\n",
    "over_df = pd.DataFrame(centroid_1, customers_clean.columns)\n",
    "\n",
    "with pd.option_context('display.max_rows', None, 'display.max_columns', None): \n",
    "    print(over_df)\n"
   ]
  },
  {
   "cell_type": "code",
   "execution_count": 24,
   "metadata": {},
   "outputs": [
    {
     "name": "stdout",
     "output_type": "stream",
     "text": [
      "                                 0\n",
      "ALTERSKATEGORIE_GROB      1.929574\n",
      "ANREDE_KZ                 0.969806\n",
      "FINANZ_MINIMALIST         1.911174\n",
      "FINANZ_SPARER             4.343324\n",
      "FINANZ_VORSORGER          2.113174\n",
      "FINANZ_ANLEGER            3.544945\n",
      "FINANZ_UNAUFFAELLIGER     3.735577\n",
      "FINANZ_HAUSBAUER          3.574703\n",
      "GREEN_AVANTGARDE          0.120504\n",
      "HEALTH_TYP                2.403844\n",
      "RETOURTYP_BK_S            2.846040\n",
      "SEMIO_SOZ                 6.347354\n",
      "SEMIO_FAM                 6.641860\n",
      "SEMIO_REL                 6.179495\n",
      "SEMIO_MAT                 5.086807\n",
      "SEMIO_VERT                5.975931\n",
      "SEMIO_LUST                3.096087\n",
      "SEMIO_ERL                 2.321255\n",
      "SEMIO_KULT                6.770285\n",
      "SEMIO_RAT                 4.042872\n",
      "SEMIO_KRIT                2.839331\n",
      "SEMIO_DOM                 2.921278\n",
      "SEMIO_KAEM                2.499840\n",
      "SEMIO_PFLICHT             5.504096\n",
      "SEMIO_TRADV               4.717142\n",
      "SOHO_KZ                   0.008067\n",
      "VERS_TYP                  1.568454\n",
      "ANZ_PERSONEN              1.390967\n",
      "ANZ_TITEL                -0.000011\n",
      "HH_EINKOMMEN_SCORE        5.521877\n",
      "W_KEIT_KIND_HH            4.524624\n",
      "WOHNDAUER_2008            7.167957\n",
      "ANZ_HAUSHALTE_AKTIV      15.983161\n",
      "ANZ_HH_TITEL              0.059266\n",
      "KONSUMNAEHE               2.055145\n",
      "MIN_GEBAEUDEJAHR       1992.525438\n",
      "OST_WEST_KZ               0.693262\n",
      "KBA05_ANTG1               0.342767\n",
      "KBA05_ANTG2               1.214487\n",
      "KBA05_ANTG3               1.134772\n",
      "KBA05_ANTG4               0.653555\n",
      "KBA05_GBZ                 2.119196\n",
      "BALLRAUM                  3.087457\n",
      "EWDICHTE                  5.165561\n",
      "INNENSTADT                3.289234\n",
      "GEBAEUDETYP_RASTER        3.326447\n",
      "KKK                       2.902747\n",
      "MOBI_REGIO                1.677908\n",
      "ONLINE_AFFINITAET         2.921302\n",
      "REGIOTYP                  4.982247\n",
      "KBA13_ANZAHL_PKW        522.394362\n",
      "PLZ8_ANTG1                1.428387\n",
      "PLZ8_ANTG2                3.295656\n",
      "PLZ8_ANTG3                2.437589\n",
      "PLZ8_ANTG4                1.302609\n",
      "PLZ8_HHZ                  3.744717\n",
      "PLZ8_GBZ                  2.651326\n",
      "ARBEIT                    3.699703\n",
      "ORTSGR_KLS9               7.020912\n",
      "RELAT_AB                  3.729359\n",
      "DECADE                    5.724538\n",
      "MOVEMENT                  0.879496\n",
      "WEALTH                    4.425331\n",
      "LIFESTAGE                 1.965294\n"
     ]
    }
   ],
   "source": [
    "# What kinds of people are part of a cluster that is underrepresented in the\n",
    "# customer data compared to the general population?\n",
    "\n",
    "centroid_7 = scaler.inverse_transform(pca_25.inverse_transform(model_12.cluster_centers_[7]))\n",
    "under_df = pd.DataFrame(centroid_7, customers_clean.columns)\n",
    "\n",
    "with pd.option_context('display.max_rows', None, 'display.max_columns', None): \n",
    "    print(under_df)"
   ]
  },
  {
   "cell_type": "markdown",
   "metadata": {},
   "source": [
    "### Discussion 3.3: Compare Customer Data to Demographics Data\n",
    "\n",
    "From the plots that were created above, we can see that cluster 7 is one of the under-represented clusters in the customer data whereas cluster 1 is one of the over-represented clusters in the customer data when compared to the general population.\n",
    "\n",
    "Some of the characteristics in the over-represented cluster (cluster 1) include prosperous households (WEALTH), upper middle class/middle class (REGIO_TYP), high or very high income (HH_EINKOMMEN_SCORE), 46-60 years old (ALTERSKATEGORIE_GROB), families with school age children or older families and mature couples (LIFESTAGE), conservative low-returner (RETOURTYP_BK_S), high or very high money saver (FINANZ_SPARER), average or high number of 1-2 family houses (KBA05_ANTG1), and 20K-50K inhabitants in community (ORTSGR_KLS9). \n",
    "\n",
    "Some of the characteristics in the under-represented cluster (cluster 7) include less affluent or poor households, lower middle class, lower or very low income, 30-45 years old, young couples with children, incentive-receptive normal returner, low or very low money saver, none or lower share of the number of 1-2 family houses, and 100K-300K inhabitants in community.\n"
   ]
  },
  {
   "cell_type": "markdown",
   "metadata": {},
   "source": [
    "> Congratulations on making it this far in the project! Before you finish, make sure to check through the entire notebook from top to bottom to make sure that your analysis follows a logical flow and all of your findings are documented in **Discussion** cells. Once you've checked over all of your work, you should export the notebook as an HTML document to submit for evaluation. You can do this from the menu, navigating to **File -> Download as -> HTML (.html)**. You will submit both that document and this notebook for your project submission."
   ]
  },
  {
   "cell_type": "code",
   "execution_count": null,
   "metadata": {},
   "outputs": [],
   "source": []
  }
 ],
 "metadata": {
  "kernelspec": {
   "display_name": "Python 3",
   "language": "python",
   "name": "python3"
  },
  "language_info": {
   "codemirror_mode": {
    "name": "ipython",
    "version": 3
   },
   "file_extension": ".py",
   "mimetype": "text/x-python",
   "name": "python",
   "nbconvert_exporter": "python",
   "pygments_lexer": "ipython3",
   "version": "3.6.3"
  }
 },
 "nbformat": 4,
 "nbformat_minor": 2
}
